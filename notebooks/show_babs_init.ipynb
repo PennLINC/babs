{
 "cells": [
  {
   "cell_type": "markdown",
   "metadata": {},
   "source": [
    "This jupyter notebook is to show function `babs-init`."
   ]
  },
  {
   "cell_type": "code",
   "execution_count": 6,
   "metadata": {},
   "outputs": [
    {
     "ename": "Exception",
     "evalue": "There is no `ses-*` folder in subject folder sub-01",
     "output_type": "error",
     "traceback": [
      "\u001b[0;31m---------------------------------------------------------------------------\u001b[0m",
      "\u001b[0;31mException\u001b[0m                                 Traceback (most recent call last)",
      "\u001b[1;32m/Users/chenyzh/Desktop/Research/Satterthwaite_Lab/datalad_wrapper/babs/notebooks/show_babs_init.ipynb Cell 2\u001b[0m in \u001b[0;36m<cell line: 6>\u001b[0;34m()\u001b[0m\n\u001b[1;32m      <a href='vscode-notebook-cell:/Users/chenyzh/Desktop/Research/Satterthwaite_Lab/datalad_wrapper/babs/notebooks/show_babs_init.ipynb#W0sZmlsZQ%3D%3D?line=2'>3</a>\u001b[0m \u001b[39mimport\u001b[39;00m \u001b[39mos\u001b[39;00m\u001b[39m.\u001b[39;00m\u001b[39mpath\u001b[39;00m \u001b[39mas\u001b[39;00m \u001b[39mop\u001b[39;00m\n\u001b[1;32m      <a href='vscode-notebook-cell:/Users/chenyzh/Desktop/Research/Satterthwaite_Lab/datalad_wrapper/babs/notebooks/show_babs_init.ipynb#W0sZmlsZQ%3D%3D?line=3'>4</a>\u001b[0m sys\u001b[39m.\u001b[39mpath\u001b[39m.\u001b[39mappend( os\u001b[39m.\u001b[39mpath\u001b[39m.\u001b[39mjoin(os\u001b[39m.\u001b[39mpath\u001b[39m.\u001b[39mdirname(os\u001b[39m.\u001b[39mpath\u001b[39m.\u001b[39mdirname(os\u001b[39m.\u001b[39mpath\u001b[39m.\u001b[39mabspath(os\u001b[39m.\u001b[39mpath\u001b[39m.\u001b[39mabspath(\u001b[39m'\u001b[39m\u001b[39m'\u001b[39m)))), \u001b[39m\"\u001b[39m\u001b[39mbabs\u001b[39m\u001b[39m\"\u001b[39m  ))\n\u001b[0;32m----> <a href='vscode-notebook-cell:/Users/chenyzh/Desktop/Research/Satterthwaite_Lab/datalad_wrapper/babs/notebooks/show_babs_init.ipynb#W0sZmlsZQ%3D%3D?line=5'>6</a>\u001b[0m \u001b[39mfrom\u001b[39;00m \u001b[39mbabs\u001b[39;00m\u001b[39m.\u001b[39;00m\u001b[39mcore_functions\u001b[39;00m \u001b[39mimport\u001b[39;00m babs_init\n",
      "File \u001b[0;32m~/Desktop/Research/Satterthwaite_Lab/datalad_wrapper/babs/babs/core_functions.py:9\u001b[0m, in \u001b[0;36m<module>\u001b[0;34m\u001b[0m\n\u001b[1;32m      6\u001b[0m \u001b[39m# from tqdm import tqdm\u001b[39;00m\n\u001b[1;32m      7\u001b[0m \u001b[39mimport\u001b[39;00m \u001b[39mdatalad\u001b[39;00m\u001b[39m.\u001b[39;00m\u001b[39mapi\u001b[39;00m \u001b[39mas\u001b[39;00m \u001b[39mdlapi\u001b[39;00m\n\u001b[0;32m----> 9\u001b[0m \u001b[39mfrom\u001b[39;00m \u001b[39mbabs\u001b[39;00m\u001b[39m.\u001b[39;00m\u001b[39mbabs\u001b[39;00m \u001b[39mimport\u001b[39;00m BABS\n\u001b[1;32m     10\u001b[0m \u001b[39mfrom\u001b[39;00m \u001b[39mbabs\u001b[39;00m\u001b[39m.\u001b[39;00m\u001b[39mutils\u001b[39;00m \u001b[39mimport\u001b[39;00m \u001b[39m*\u001b[39m\n\u001b[1;32m     12\u001b[0m \u001b[39mdef\u001b[39;00m \u001b[39mbabs_init\u001b[39m(where_project, project_name, \n\u001b[1;32m     13\u001b[0m             \u001b[39minput\u001b[39m, container_ds,\n\u001b[1;32m     14\u001b[0m             type_session, system):\n",
      "File \u001b[0;32m~/Desktop/Research/Satterthwaite_Lab/datalad_wrapper/babs/babs/babs.py:10\u001b[0m, in \u001b[0;36m<module>\u001b[0;34m\u001b[0m\n\u001b[1;32m      7\u001b[0m \u001b[39mimport\u001b[39;00m \u001b[39mdatalad\u001b[39;00m\u001b[39m.\u001b[39;00m\u001b[39mapi\u001b[39;00m \u001b[39mas\u001b[39;00m \u001b[39mdlapi\u001b[39;00m\n\u001b[1;32m      8\u001b[0m \u001b[39mimport\u001b[39;00m \u001b[39mpandas\u001b[39;00m \u001b[39mas\u001b[39;00m \u001b[39mpd\u001b[39;00m\n\u001b[0;32m---> 10\u001b[0m \u001b[39mfrom\u001b[39;00m \u001b[39mbabs\u001b[39;00m\u001b[39m.\u001b[39;00m\u001b[39mutils\u001b[39;00m \u001b[39mimport\u001b[39;00m \u001b[39m*\u001b[39m\n\u001b[1;32m     12\u001b[0m \u001b[39mclass\u001b[39;00m \u001b[39mBABS\u001b[39;00m():\n\u001b[1;32m     13\u001b[0m     \u001b[39m\"\"\"The BABS class is for babs projects of BIDS Apps\"\"\"\u001b[39;00m\n",
      "File \u001b[0;32m~/Desktop/Research/Satterthwaite_Lab/datalad_wrapper/babs/babs/utils.py:55\u001b[0m, in \u001b[0;36m<module>\u001b[0;34m\u001b[0m\n\u001b[1;32m     50\u001b[0m             \u001b[39mif\u001b[39;00m \u001b[39mnot\u001b[39;00m is_valid_seslevel:\n\u001b[1;32m     51\u001b[0m                 \u001b[39mraise\u001b[39;00m \u001b[39mException\u001b[39;00m(\u001b[39m\"\u001b[39m\u001b[39mThere is no `ses-*` folder in subject folder \u001b[39m\u001b[39m\"\u001b[39m \u001b[39m+\u001b[39m sub_temp)\n\u001b[0;32m---> 55\u001b[0m check_validity_input_dataset(\u001b[39m\"\u001b[39;49m\u001b[39m/Users/chenyzh/Desktop/Research/Satterthwaite_Lab/datalad_wrapper/data/test_babs/analysis/inputs/data\u001b[39;49m\u001b[39m\"\u001b[39;49m,\n\u001b[1;32m     56\u001b[0m \u001b[39m\"\u001b[39;49m\u001b[39mmulti-ses\u001b[39;49m\u001b[39m\"\u001b[39;49m)\n\u001b[1;32m     58\u001b[0m \u001b[39mprint\u001b[39m(\u001b[39m\"\u001b[39m\u001b[39m\"\u001b[39m)\n",
      "File \u001b[0;32m~/Desktop/Research/Satterthwaite_Lab/datalad_wrapper/babs/babs/utils.py:51\u001b[0m, in \u001b[0;36mcheck_validity_input_dataset\u001b[0;34m(input_ds_path, type_session)\u001b[0m\n\u001b[1;32m     48\u001b[0m         \u001b[39mbreak\u001b[39;00m\n\u001b[1;32m     50\u001b[0m \u001b[39mif\u001b[39;00m \u001b[39mnot\u001b[39;00m is_valid_seslevel:\n\u001b[0;32m---> 51\u001b[0m     \u001b[39mraise\u001b[39;00m \u001b[39mException\u001b[39;00m(\u001b[39m\"\u001b[39m\u001b[39mThere is no `ses-*` folder in subject folder \u001b[39m\u001b[39m\"\u001b[39m \u001b[39m+\u001b[39m sub_temp)\n",
      "\u001b[0;31mException\u001b[0m: There is no `ses-*` folder in subject folder sub-01"
     ]
    }
   ],
   "source": [
    "import sys\n",
    "import os\n",
    "import os.path as op\n",
    "sys.path.append( os.path.join(os.path.dirname(os.path.dirname(os.path.abspath(os.path.abspath('')))), \"babs\"  ))\n",
    "\n",
    "from babs.core_functions import babs_init\n",
    "# from babs.cli import *"
   ]
  },
  {
   "cell_type": "markdown",
   "metadata": {},
   "source": []
  },
  {
   "cell_type": "code",
   "execution_count": null,
   "metadata": {},
   "outputs": [],
   "source": []
  }
 ],
 "metadata": {
  "kernelspec": {
   "display_name": "Python 3.9.12 ('mydatalad')",
   "language": "python",
   "name": "python3"
  },
  "language_info": {
   "codemirror_mode": {
    "name": "ipython",
    "version": 3
   },
   "file_extension": ".py",
   "mimetype": "text/x-python",
   "name": "python",
   "nbconvert_exporter": "python",
   "pygments_lexer": "ipython3",
   "version": "3.9.12"
  },
  "orig_nbformat": 4,
  "vscode": {
   "interpreter": {
    "hash": "db259b60f6b86d680255949883ddf0de74b7e9cf285c3fc5f1dccd3fe78d756b"
   }
  }
 },
 "nbformat": 4,
 "nbformat_minor": 2
}
