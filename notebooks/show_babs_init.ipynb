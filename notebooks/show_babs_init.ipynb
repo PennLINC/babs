{
 "cells": [
  {
   "cell_type": "markdown",
   "metadata": {},
   "source": [
    "This jupyter notebook is to show function `babs-init`."
   ]
  },
  {
   "cell_type": "code",
   "execution_count": 9,
   "metadata": {},
   "outputs": [],
   "source": [
    "# conda activate mydatalad\n",
    "\n",
    "# set up how Jupyter notebook behaves:\n",
    "from IPython.core.interactiveshell import InteractiveShell\n",
    "InteractiveShell.ast_node_interactivity = 'all'   # print all outputs\n",
    "\n",
    "import sys\n",
    "import os\n",
    "import os.path as op\n",
    "sys.path.append( os.path.join(os.path.dirname(os.path.dirname(os.path.abspath(os.path.abspath('')))), \"babs\"  ))\n",
    "\n",
    "from babs.core_functions import babs_init\n",
    "# from babs.cli import *\n",
    "\n",
    "# manually: \n",
    "# pip install -e ."
   ]
  },
  {
   "cell_type": "markdown",
   "metadata": {},
   "source": [
    "There are several arguments when calling `babs-init`:"
   ]
  },
  {
   "cell_type": "code",
   "execution_count": 10,
   "metadata": {},
   "outputs": [],
   "source": [
    "where_project = \"/Users/chenyzh/Desktop/Research/Satterthwaite_Lab/datalad_wrapper/data\"\n",
    "project_name = \"test_babs_cli\"\n",
    "input_ds = op.join(where_project, \"j854e\")\n",
    "\n",
    "container_ds = op.join(where_project, \"toybidsapp-container-docker\")\n",
    "container_name = \"toybidsapp-0-0-3\"\n",
    "container_config_yaml_file = \"../notebooks/example_container.yaml\"\n",
    "\n",
    "type_session = \"multi-ses\""
   ]
  },
  {
   "cell_type": "markdown",
   "metadata": {},
   "source": [
    "Let's pass these arguments into `babs-init` CLI:"
   ]
  },
  {
   "cell_type": "code",
   "execution_count": 11,
   "metadata": {},
   "outputs": [
    {
     "name": "stdout",
     "output_type": "stream",
     "text": [
      "DataLad version: 0.17.2\n",
      "[['False', '/Users/chenyzh/Desktop/Research/Satterthwaite_Lab/datalad_wrapper/data/j854e']]\n",
      "nothing to save, working tree clean\n",
      "project_root of this BABS project: /Users/chenyzh/Desktop/Research/Satterthwaite_Lab/datalad_wrapper/data/test_babs_cli\n",
      "type of data of this BABS project: multi-ses\n",
      "job scheduling system of this BABS project: sge\n",
      "hey you entered babs_bootstrap method of BABS class!\n",
      "input_pd:\n",
      "  is_zipped                                           input_ds\n",
      "0     False  /Users/chenyzh/Desktop/Research/Satterthwaite_...\n",
      "/Users/chenyzh/Desktop/Research/Satterthwaite_Lab/datalad_wrapper/data/toybidsapp-container-docker\n",
      "[INFO   ] Running procedure cfg_yoda \n",
      "[INFO   ] == Command start (output follows) ===== \n",
      "Total: 0.00 datasets [00:00, ? datasets/s]\n",
      "Total:   0%|                                     | 0.00/510 [00:00<?, ? Bytes/s]\u001b[A\n",
      "[INFO   ] == Command exit (modification check follows) =====                    \u001b[A\n",
      "\u001b[1;1mrun\u001b[0m(\u001b[1;32mok\u001b[0m): /Users/chenyzh/Desktop/Research/Satterthwaite_Lab/datalad_wrapper/data/test_babs_cli/analysis (\u001b[1;35mdataset\u001b[0m) [/Users/chenyzh/opt/miniconda3/envs/mydat...]\n",
      "\u001b[1;1mcreate\u001b[0m(\u001b[1;32mok\u001b[0m): /Users/chenyzh/Desktop/Research/Satterthwaite_Lab/datalad_wrapper/data/test_babs_cli/analysis (\u001b[1;35mdataset\u001b[0m)\n",
      "action summary:\n",
      "  create (ok: 1)\n",
      "  run (ok: 1)\n",
      "Creating output and input RIA...\n",
      "[INFO   ] create siblings 'output' and 'output-storage' ... \n",
      "[INFO   ] Fetching updates for Dataset(/Users/chenyzh/Desktop/Research/Satterthwaite_Lab/datalad_wrapper/data/test_babs_cli/analysis) \n",
      "\u001b[1;1mupdate\u001b[0m(\u001b[1;32mok\u001b[0m): . (\u001b[1;35mdataset\u001b[0m)\n",
      "\u001b[1;1mupdate\u001b[0m(\u001b[1;32mok\u001b[0m): . (\u001b[1;35mdataset\u001b[0m)\n",
      "[INFO   ] Configure additional publication dependency on \"output-storage\" \n",
      "\u001b[1;1mconfigure-sibling\u001b[0m(\u001b[1;32mok\u001b[0m): . (\u001b[1;35msibling\u001b[0m)\n",
      "\u001b[1;1mcreate-sibling-ria\u001b[0m(\u001b[1;32mok\u001b[0m): /Users/chenyzh/Desktop/Research/Satterthwaite_Lab/datalad_wrapper/data/test_babs_cli/analysis (\u001b[1;35mdataset\u001b[0m)\n",
      "action summary:  \n",
      "  configure-sibling (ok: 1)\n",
      "  create-sibling-ria (ok: 1)\n",
      "  update (ok: 1)\n",
      "[INFO   ] create sibling 'input' ... \n",
      "[INFO   ] Fetching updates for Dataset(/Users/chenyzh/Desktop/Research/Satterthwaite_Lab/datalad_wrapper/data/test_babs_cli/analysis) \n",
      "\u001b[1;1mupdate\u001b[0m(\u001b[1;32mok\u001b[0m): . (\u001b[1;35mdataset\u001b[0m)\n",
      "\u001b[1;1mupdate\u001b[0m(\u001b[1;32mok\u001b[0m): . (\u001b[1;35mdataset\u001b[0m)\n",
      "\u001b[1;1mconfigure-sibling\u001b[0m(\u001b[1;32mok\u001b[0m): . (\u001b[1;35msibling\u001b[0m)\n",
      "\u001b[1;1mcreate-sibling-ria\u001b[0m(\u001b[1;32mok\u001b[0m): /Users/chenyzh/Desktop/Research/Satterthwaite_Lab/datalad_wrapper/data/test_babs_cli/analysis (\u001b[1;35mdataset\u001b[0m)\n",
      "action summary:\n",
      "  configure-sibling (ok: 1)\n",
      "  create-sibling-ria (ok: 1)\n",
      "  update (ok: 1)\n",
      "Register the input dataset...\n",
      "Cloning input dataset(s)...\n",
      "\u001b[1;1minstall\u001b[0m(\u001b[1;32mok\u001b[0m): inputs/data (\u001b[1;35mdataset\u001b[0m)              \n",
      "\u001b[1;1madd\u001b[0m(\u001b[1;32mok\u001b[0m): inputs/data (\u001b[1;35mfile\u001b[0m)                     \n",
      "Total:   0%|                                 | 0.00/1.00 [00:00<?, ? datasets/s]\n",
      "                                                                                \u001b[A\n",
      "\u001b[A\u001b[1;1madd\u001b[0m(\u001b[1;32mok\u001b[0m): .gitmodules (\u001b[1;35mfile\u001b[0m)                  \n",
      "Total:   0%|                                 | 0.00/1.00 [00:00<?, ? datasets/s]\n",
      "Total:   0%|                                     | 0.00/181 [00:00<?, ? Bytes/s]\u001b[A\n",
      "\u001b[1;1msave\u001b[0m(\u001b[1;32mok\u001b[0m): . (\u001b[1;35mdataset\u001b[0m)                           \u001b[A\n",
      "\u001b[1;1madd\u001b[0m(\u001b[1;32mok\u001b[0m): .gitmodules (\u001b[1;35mfile\u001b[0m)                     \n",
      "\u001b[1;1msave\u001b[0m(\u001b[1;32mok\u001b[0m): . (\u001b[1;35mdataset\u001b[0m)                           \n",
      "action summary:                                                                 \n",
      "  add (ok: 3)\n",
      "  install (ok: 1)\n",
      "  save (ok: 2)\n",
      "Add the container as a sub-dataset of `analysis` dataset...\n",
      "\u001b[1;1minstall\u001b[0m(\u001b[1;32mok\u001b[0m): containers (\u001b[1;35mdataset\u001b[0m)               \n",
      "\u001b[1;1madd\u001b[0m(\u001b[1;32mok\u001b[0m): containers (\u001b[1;35mfile\u001b[0m)                      \n",
      "\u001b[1;1madd\u001b[0m(\u001b[1;32mok\u001b[0m): .gitmodules (\u001b[1;35mfile\u001b[0m)                     \n",
      "\n",
      "Total:   0%|                                 | 0.00/1.00 [00:00<?, ? datasets/s]\u001b[A\n",
      "Total:   0%|                                     | 0.00/474 [00:00<?, ? Bytes/s]\u001b[A\n",
      "\u001b[1;1msave\u001b[0m(\u001b[1;32mok\u001b[0m): . (\u001b[1;35mdataset\u001b[0m)                           \u001b[A\n",
      "\u001b[1;1madd\u001b[0m(\u001b[1;32mok\u001b[0m): .gitmodules (\u001b[1;35mfile\u001b[0m)                     \n",
      "\u001b[1;1msave\u001b[0m(\u001b[1;32mok\u001b[0m): . (\u001b[1;35mdataset\u001b[0m)                           \n",
      "action summary:                                                                 \n",
      "  add (ok: 3)\n",
      "  install (ok: 1)\n",
      "  save (ok: 2)\n",
      "\n"
     ]
    }
   ],
   "source": [
    "!(babs-init \\\n",
    "    --where_project $where_project \\\n",
    "    --project_name $project_name \\\n",
    "    --input \"False\" $input_ds \\\n",
    "    --container_ds $container_ds \\\n",
    "    --container_name $container_name \\\n",
    "    --container_config_yaml_file $container_config_yaml_file \\\n",
    "    --type_session $type_session \\\n",
    "    --system sge)"
   ]
  },
  {
   "cell_type": "code",
   "execution_count": null,
   "metadata": {},
   "outputs": [],
   "source": []
  }
 ],
 "metadata": {
  "kernelspec": {
   "display_name": "Python 3.9.12 ('mydatalad')",
   "language": "python",
   "name": "python3"
  },
  "language_info": {
   "codemirror_mode": {
    "name": "ipython",
    "version": 3
   },
   "file_extension": ".py",
   "mimetype": "text/x-python",
   "name": "python",
   "nbconvert_exporter": "python",
   "pygments_lexer": "ipython3",
   "version": "3.9.12"
  },
  "orig_nbformat": 4,
  "vscode": {
   "interpreter": {
    "hash": "db259b60f6b86d680255949883ddf0de74b7e9cf285c3fc5f1dccd3fe78d756b"
   }
  }
 },
 "nbformat": 4,
 "nbformat_minor": 2
}
