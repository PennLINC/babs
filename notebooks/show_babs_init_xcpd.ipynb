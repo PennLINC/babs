{
    "cells": [
        {
            "cell_type": "markdown",
            "metadata": {},
            "source": [
                "This jupyter notebook is to show function `babs-init`."
            ]
        },
        {
            "cell_type": "code",
            "execution_count": 1,
            "metadata": {},
            "outputs": [],
            "source": [
                "# See `README_howtorun_show_babs_init_ipynb.md` for how to run this file!\n",
                "\n",
                "# Clone out:\n",
                "#   datalad clone ria+file:///path/to/<container>/output_ria#~data singleORmulti-ses_<container>_outputs\n",
                "# If you want to change `project_root`'s foldername, also change `output_ria/alias/data` symlink:\n",
                "    # cd output_ria/alias\n",
                "    # ln -sf /new/full/path/to/output_ria/xxx/xxx-xxx-xxx-xxx data\n",
                "\n",
                "# flake8: noqa\n",
                "\n",
                "# set up how Jupyter notebook behaves:\n",
                "from IPython.core.interactiveshell import InteractiveShell\n",
                "InteractiveShell.ast_node_interactivity = 'all'   # print all outputs\n",
                "\n",
                "import os\n",
                "import os.path as op\n",
                "import warnings"
            ]
        },
        {
            "cell_type": "markdown",
            "metadata": {},
            "source": [
                "There are several arguments when calling `babs-init`:"
            ]
        },
        {
            "cell_type": "code",
            "execution_count": 3,
            "metadata": {},
            "outputs": [
                {
                    "name": "stdout",
                    "output_type": "stream",
                    "text": [
                        "/cbica/projects/BABS/babs/notebooks/eg_xcpd-0-4-0_nifti_sge_cubic.yaml\n"
                    ]
                }
            ],
            "source": [
                "# This notebook only accepts toybidsapp_rawBIDS, qsiprep or fmriprep\n",
                "#   or fmriprep_anatonly or 'fmriprep_sloppyFlag' or fmriprepfake (input ds: BIDS)\n",
                "# ++++++++++++++++++++++++++++++++++\n",
                "bidsapp = \"xcpd\"\n",
                "bidsapp_version_dash = \"0-4-0\"\n",
                "# xcp-d: '0-3-0'; '0-4-0'\n",
                "\n",
                "# fmriprep_version_dash = \"22-0-2\"\n",
                "# fmriprep output: '22-0-2' for HBN fmriprep func outputs; '20.2.3' for CCNP fmriprep outputs\n",
                "\n",
                "task_name = \"nifti\"    # \"nifti\"\n",
                "\n",
                "input_ds_name = \"fmriprep\"    # \"fmriprep\"\n",
                "\n",
                "type_session = \"single-ses\"\n",
                "which_dataset = \"CCNP\"    # \"HBN\"\n",
                "input_ds = None    # None\n",
                "# ^^ `None`` if `which_dataset` not 'customize'; please provide the path if `which_dataset` is 'customize'\n",
                "\n",
                "flag_where = \"cubic\"     # \"cubic\" or \"local\" or \"msi\"\n",
                "type_system = \"sge\"   # \"sge\" or \"slurm\"\n",
                "# ++++++++++++++++++++++++++++++++++\n",
                "\n",
                "# sanity checks:\n",
                "if flag_where == \"cubic\":\n",
                "    assert type_system == \"sge\"\n",
                "elif flag_where == \"msi\":\n",
                "    assert type_system == \"slurm\"\n",
                "\n",
                "# where:\n",
                "if flag_where == \"cubic\":\n",
                "    where_root = \"/cbica/projects/BABS\"\n",
                "    where_project = op.join(where_root, \"data\")\n",
                "    where_notebooks = op.join(where_root, \"babs/notebooks\")\n",
                "elif flag_where == \"local\":\n",
                "    where_root = \"/Users/chenyzh/Desktop/Research/Satterthwaite_Lab/datalad_wrapper\"\n",
                "    where_project = op.join(where_root, \"data\")\n",
                "    where_notebooks = op.join(where_root, \"babs/notebooks\")\n",
                "elif flag_where == \"msi\":\n",
                "    where_root = \"/home/faird/zhaoc\"\n",
                "    where_project = \"/home/faird/zhaoc/data\"\n",
                "    where_notebooks = op.join(where_root, \"babs/notebooks\")\n",
                "else:\n",
                "    raise Exception(\"not valid `flag_where`!\")\n",
                "\n",
                "# Input dataset:\n",
                "if which_dataset == \"HBN\":  # HBN data:\n",
                "    assert type_session == \"single-ses\"\n",
                "    if flag_where == \"cubic\":\n",
                "        input_ds = \"/cbica/projects/BABS/data/HBN_fmriprep_func\"  # datalad sibling in BABS cubic project\n",
                "elif which_dataset == \"CCNP\":   # CCNP data:\n",
                "    assert type_session == \"single-ses\"\n",
                "    if flag_where == \"cubic\":\n",
                "        input_ds = \"/cbica/projects/BABS/data/CCNP_fmriprep\"\n",
                "project_name = \"test_babs_\" + type_session\n",
                "# Based on which dataset:\n",
                "if which_dataset in [\"HBN\", \"PNC\", \"CCNP\", \"customize\"]:   # specific real dataset\n",
                "    project_name += \"_\" + which_dataset\n",
                "# Based on which BIDS App:\n",
                "assert bidsapp == \"xcpd\"\n",
                "container_name = bidsapp + \"-\" + bidsapp_version_dash\n",
                "\n",
                "project_name += \"_\" + bidsapp + \"_\" + task_name\n",
                "\n",
                "# Container:\n",
                "container_ds = op.join(where_project, bidsapp + \"-container\")  \n",
                "if flag_where == \"local\":\n",
                "    # container_ds += \"-docker\"   # add \"docker\" at the end\n",
                "    container_ds = op.join(where_project, \"toybidsapp-container-docker\")\n",
                "\n",
                "container_config_yaml_file = op.join(where_notebooks, \"eg_\" + container_name\n",
                "    + \"_\" + task_name + \"_\" + type_system)\n",
                "if flag_where in [\"cubic\", \"msi\"]:\n",
                "    container_config_yaml_file += \"_\" + flag_where\n",
                "else:\n",
                "    if type_system == \"sge\":\n",
                "        container_config_yaml_file += \"_\" + \"cubic\"\n",
                "    elif type_system == \"slurm\":\n",
                "        container_config_yaml_file += \"_\" + \"msi\"\n",
                "container_config_yaml_file += \".yaml\"\n",
                "print(container_config_yaml_file)\n",
                "assert op.exists(container_config_yaml_file)\n",
                "# container_config_yaml_file = op.join(where_notebooks, \"example_container_\" + flag_instance + \".yaml\")\n",
                "\n",
                "# list_sub_file = op.join(where_notebooks, \"initial_sub_list_\" + type_session + \".csv\")\n",
                "list_sub_file = None"
            ]
        },
        {
            "cell_type": "markdown",
            "metadata": {},
            "source": [
                "Let's pass these arguments into `babs-init` CLI:"
            ]
        },
        {
            "cell_type": "code",
            "execution_count": 4,
            "metadata": {},
            "outputs": [
                {
                    "name": "stdout",
                    "output_type": "stream",
                    "text": [
                        "The command to execute:\n",
                        "babs-init \\\n",
                        "\t--where_project /cbica/projects/BABS/data \\\n",
                        "\t--project_name test_babs_single-ses_CCNP_xcpd_nifti \\\n",
                        "\t--input fmriprep /cbica/projects/BABS/data/CCNP_fmriprep \\\n",
                        "\t--container_ds /cbica/projects/BABS/data/xcpd-container \\\n",
                        "\t--container_name xcpd-0-4-0 \\\n",
                        "\t--container_config_yaml_file /cbica/projects/BABS/babs/notebooks/eg_xcpd-0-4-0_nifti_sge_cubic.yaml \\\n",
                        "\t--type_session single-ses \\\n",
                        "\t--type_system sge\n",
                        "WARNING: make sure you've changed `--fs-license-file` value in YAML file if you use it!!!\n"
                    ]
                }
            ],
            "source": [
                "cmd = \"babs-init \\\\\\n\"\n",
                "cmd += \"\\t\" + \"--where_project \" + where_project + \" \\\\\\n\"\n",
                "cmd += \"\\t\" + \"--project_name \" + project_name + \" \\\\\\n\"\n",
                "cmd += \"\\t\" + \"--input \" + input_ds_name + \" \" + input_ds + \" \\\\\\n\"\n",
                "if list_sub_file is not None:\n",
                "    cmd += \"\\t\" + \"--list_sub_file \" + list_sub_file + \" \\\\\\n\"\n",
                "cmd += \"\\t\" + \"--container_ds \" + container_ds + \" \\\\\\n\"\n",
                "cmd += \"\\t\" + \"--container_name \" + container_name + \" \\\\\\n\"\n",
                "cmd += \"\\t\" + \"--container_config_yaml_file \" + container_config_yaml_file + \" \\\\\\n\"\n",
                "cmd += \"\\t\" + \"--type_session \" + type_session + \" \\\\\\n\"\n",
                "cmd += \"\\t\" + \"--type_system \" + type_system\n",
                "\n",
                "print(\"The command to execute:\")\n",
                "print(cmd)\n",
                "print(\"WARNING: make sure you've changed `--fs-license-file` value in YAML file if you use it!!!\")"
            ]
        },
        {
            "cell_type": "code",
            "execution_count": null,
            "metadata": {},
            "outputs": [],
            "source": [
                "!($cmd)"
            ]
        }
    ],
    "metadata": {
        "kernelspec": {
            "display_name": "mydatalad",
            "language": "python",
            "name": "python3"
        },
        "language_info": {
            "codemirror_mode": {
                "name": "ipython",
                "version": 3
            },
            "file_extension": ".py",
            "mimetype": "text/x-python",
            "name": "python",
            "nbconvert_exporter": "python",
            "pygments_lexer": "ipython3",
            "version": "3.9.16 (main, Mar  8 2023, 14:00:05) \n[GCC 11.2.0]"
        },
        "orig_nbformat": 4,
        "vscode": {
            "interpreter": {
                "hash": "abcc7813313a81f6f916a4574498d1c2de65ad7fdfeb04d04cdf237cdcbdda8b"
            }
        }
    },
    "nbformat": 4,
    "nbformat_minor": 2
}
