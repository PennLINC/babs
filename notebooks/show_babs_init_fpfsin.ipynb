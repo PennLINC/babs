{
 "cells": [
  {
   "cell_type": "markdown",
   "metadata": {},
   "source": [
    "This jupyter notebook is to show function `babs-init`."
   ]
  },
  {
   "cell_type": "code",
   "execution_count": 1,
   "metadata": {},
   "outputs": [],
   "source": [
    "# See `README_hotoru _show_babs_init_ipynb.md` for how to run this file!\n",
    "\n",
    "# See another file how to set up before rendering html: \n",
    "#   `notebooks/show_babs_init_InputBIDS.ipynb`\n",
    "\n",
    "# $ jupyter nbconvert --execute --to html notebooks/show_babs_init_fpfsin.ipynb\n",
    "\n",
    "# flake8: noqa\n",
    "\n",
    "# set up how Jupyter notebook behaves:\n",
    "from IPython.core.interactiveshell import InteractiveShell\n",
    "InteractiveShell.ast_node_interactivity = 'all'   # print all outputs\n",
    " \n",
    "# import sys\n",
    "import os\n",
    "import os.path as op"
   ]
  },
  {
   "cell_type": "markdown",
   "metadata": {},
   "source": [
    "There are several arguments when calling `babs-init`:"
   ]
  },
  {
   "cell_type": "code",
   "execution_count": 10,
   "metadata": {},
   "outputs": [
    {
     "name": "stdout",
     "output_type": "stream",
     "text": [
      "/cbica/projects/BABS/babs/notebooks/eg_fmriprep-20-2-3_ingressed-fs-sloppy_sge_cubic.yaml\n"
     ]
    }
   ],
   "source": [
    "# This notebook only accepts fmriprep with freesurfer ingressed\n",
    "# ++++++++++++++++++++++++++++++++++\n",
    "bidsapp = \"fmriprep\"\n",
    "bidsapp_version_dash = \"20-2-3\"\n",
    "# fmriprep: '20-2-3'; '23-1-3'\n",
    "task_name = \"ingressed-fs-sloppy\"\n",
    "\n",
    "input_ds_name_fs = \"freesurfer\"\n",
    "# zip files from anat workflow:\n",
    "# e.g., \"fmriprep_anat\" for fmriprep 23.1.3; \"freesurfer\" for fmriprep 20.2.3\n",
    "\n",
    "type_session = \"single-ses\"\n",
    "which_dataset = \"HBN\"    # \"toy_fake\", \"toy_real\", \"CCNP\", \"HBN\"\n",
    "input_ds_fs = \"/cbica/projects/BABS/data/HBN_fmriprep_anat\"\n",
    "# ^^ path to the fmriprep `--anat-only` cloned output ria \n",
    "\n",
    "flag_where = \"cubic\"     # \"cubic\" or \"local\" or \"msi\"\n",
    "type_system = \"sge\"   # \"sge\" or \"slurm\"\n",
    "# ++++++++++++++++++++++++++++++++++\n",
    "\n",
    "# sanity checks:\n",
    "if flag_where == \"cubic\":\n",
    "    assert type_system == \"sge\"\n",
    "elif flag_where == \"msi\":\n",
    "    assert type_system == \"slurm\"\n",
    "\n",
    "# where:\n",
    "if flag_where == \"cubic\":\n",
    "    where_root = \"/cbica/projects/BABS\"\n",
    "    where_project = op.join(where_root, \"data\")\n",
    "    where_notebooks = op.join(where_root, \"babs/notebooks\")\n",
    "elif flag_where == \"local\":\n",
    "    where_root = \"/Users/chenyzh/Desktop/Research/Satterthwaite_Lab/datalad_wrapper\"\n",
    "    where_project = op.join(where_root, \"data\")\n",
    "    where_notebooks = op.join(where_root, \"babs/notebooks\")\n",
    "elif flag_where == \"msi\":\n",
    "    where_root = \"/home/faird/zhaoc\"\n",
    "    where_project = \"/home/faird/zhaoc/data\"\n",
    "    where_notebooks = op.join(where_root, \"babs/notebooks\")\n",
    "else:\n",
    "    raise Exception(\"not valid `flag_where`!\")\n",
    "\n",
    "# Input dataset:\n",
    "if which_dataset == \"CCNP\":\n",
    "    assert type_session == \"single-ses\"\n",
    "    input_ds_bids = \"/home/faird/zhaoc/data/CCNP_BIDS\"   # cloned from RBC github org\n",
    "elif which_dataset == \"HBN\":\n",
    "    assert type_session == \"single-ses\"\n",
    "    input_ds_bids = \"/cbica/projects/BABS/data/HBN_BIDS\"\n",
    "elif which_dataset == \"toy_fake\":\n",
    "    if type_session == \"multi-ses\":\n",
    "        input_ds_bids = op.join(where_project, \"w2nu3\")  # bids, multi-ses\n",
    "        input_ds_fs = op.join(where_project, \"k9zw2\")   # fmriprep done, multi-ses\n",
    "    elif type_session == \"single-ses\":\n",
    "        input_ds_bids = op.join(where_project, \"t8urc\")   # bids, single-ses\n",
    "        input_ds_fs = \"osf://2jvub/\"   # fmriprep done, single-ses\n",
    "elif which_dataset == \"toy_real\":\n",
    "    if type_session == \"multi-ses\":\n",
    "        # input_ds_bids = \"/cbica/projects/RBC/chenying_practice/data_for_babs/NKI/data_hashedID_bids\"\n",
    "        input_ds_bids = \"/cbica/projects/BABS/data/testdata_NKI/data_hashedID_bids\"\n",
    "    elif type_session == \"single-ses\":\n",
    "        raise Exception(\"not supported yet!\")\n",
    "else:\n",
    "    raise Exception(\"not valid `which_dataset`!\")\n",
    "\n",
    "assert \"ingressed-fs\" in task_name\n",
    "\n",
    "bidsapp = \"fmriprep\"\n",
    "container_name = \"fmriprep\" + \"-\" + bidsapp_version_dash\n",
    "\n",
    "project_name = \"test_babs_\" + type_session\n",
    "# Based on which dataset:\n",
    "if which_dataset in [\"HBN\", \"PNC\", \"CCNP\", \"customize\"]:   # specific real dataset\n",
    "    project_name += \"_\" + which_dataset\n",
    "project_name += \"_\" + bidsapp + \"-\" + bidsapp_version_dash +  \"_\" + task_name\n",
    "\n",
    "# Container:\n",
    "container_ds = op.join(where_project, bidsapp + \"-container\")  \n",
    "if flag_where == \"local\":\n",
    "    # container_ds += \"-docker\"   # add \"docker\" at the end\n",
    "    container_ds = op.join(where_project, \"toybidsapp-container-docker\")\n",
    "\n",
    "container_config_yaml_file = op.join(where_notebooks, \"eg_\" + container_name\n",
    "    + \"_\" + task_name + \"_\" + type_system)\n",
    "if flag_where in [\"cubic\", \"msi\"]:\n",
    "    container_config_yaml_file += \"_\" + flag_where\n",
    "else:\n",
    "    if type_system == \"sge\":\n",
    "        container_config_yaml_file += \"_\" + \"cubic\"\n",
    "    elif type_system == \"slurm\":\n",
    "        container_config_yaml_file += \"_\" + \"msi\"\n",
    "container_config_yaml_file += \".yaml\"\n",
    "print(container_config_yaml_file)\n",
    "assert op.exists(container_config_yaml_file)\n",
    "\n",
    "# list_sub_file = op.join(where_notebooks, \"initial_sub_list_\" + type_session + \".csv\")\n",
    "list_sub_file = None"
   ]
  },
  {
   "cell_type": "markdown",
   "metadata": {},
   "source": [
    "Let's pass these arguments into `babs-init` CLI:"
   ]
  },
  {
   "cell_type": "code",
   "execution_count": 11,
   "metadata": {},
   "outputs": [
    {
     "name": "stdout",
     "output_type": "stream",
     "text": [
      "# The command to execute:\n",
      "babs-init \\\n",
      "\t--where_project /cbica/projects/BABS/data \\\n",
      "\t--project_name test_babs_single-ses_HBN_fmriprep-20-2-3_ingressed-fs-sloppy \\\n",
      "\t--input BIDS /cbica/projects/BABS/data/HBN_BIDS \\\n",
      "\t--input freesurfer /cbica/projects/BABS/data/HBN_fmriprep_anat \\\n",
      "\t--container_ds /cbica/projects/BABS/data/fmriprep-container \\\n",
      "\t--container_name fmriprep-20-2-3 \\\n",
      "\t--container_config_yaml_file /cbica/projects/BABS/babs/notebooks/eg_fmriprep-20-2-3_ingressed-fs-sloppy_sge_cubic.yaml \\\n",
      "\t--type_session single-ses \\\n",
      "\t--type_system sge\n",
      "WARNING: make sure you've changed `--fs-license-file` value in YAML file if you use it!!!\n"
     ]
    }
   ],
   "source": [
    "cmd = \"babs-init \\\\\\n\"\n",
    "cmd += \"\\t\" + \"--where_project \" + where_project + \" \\\\\\n\"\n",
    "cmd += \"\\t\" + \"--project_name \" + project_name + \" \\\\\\n\"\n",
    "cmd += \"\\t\" + \"--input \" + \"BIDS\" + \" \" + input_ds_bids + \" \\\\\\n\"\n",
    "cmd += \"\\t\" + \"--input \" + input_ds_name_fs + \" \" + input_ds_fs + \" \\\\\\n\"\n",
    "if list_sub_file is not None:\n",
    "    cmd += \"\\t\" + \"--list_sub_file \" + list_sub_file + \" \\\\\\n\"\n",
    "cmd += \"\\t\" + \"--container_ds \" + container_ds + \" \\\\\\n\"\n",
    "cmd += \"\\t\" + \"--container_name \" + container_name + \" \\\\\\n\"\n",
    "cmd += \"\\t\" + \"--container_config_yaml_file \" + container_config_yaml_file + \" \\\\\\n\"\n",
    "cmd += \"\\t\" + \"--type_session \" + type_session + \" \\\\\\n\"\n",
    "cmd += \"\\t\" + \"--type_system \" + type_system\n",
    "\n",
    "print(\"# The command to execute:\")\n",
    "print(cmd)\n",
    "print(\"WARNING: make sure you've changed `--fs-license-file` value in YAML file if you use it!!!\")"
   ]
  }
 ],
 "metadata": {
  "kernelspec": {
   "display_name": "mydatalad",
   "language": "python",
   "name": "python3"
  },
  "language_info": {
   "codemirror_mode": {
    "name": "ipython",
    "version": 3
   },
   "file_extension": ".py",
   "mimetype": "text/x-python",
   "name": "python",
   "nbconvert_exporter": "python",
   "pygments_lexer": "ipython3",
   "version": "3.9.16"
  },
  "orig_nbformat": 4,
  "vscode": {
   "interpreter": {
    "hash": "abcc7813313a81f6f916a4574498d1c2de65ad7fdfeb04d04cdf237cdcbdda8b"
   }
  }
 },
 "nbformat": 4,
 "nbformat_minor": 2
}
