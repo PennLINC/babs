{
 "cells": [
  {
   "cell_type": "markdown",
   "metadata": {},
   "source": [
    "This jupyter notebook is to show function `babs-init`."
   ]
  },
  {
   "cell_type": "code",
   "execution_count": 1,
   "metadata": {},
   "outputs": [],
   "source": [
    "# See `README_hotoru _show_babs_init_ipynb.md` for how to run this file!\n",
    "\n",
    "# See another file how to set up before rendering html: \n",
    "#   `notebooks/show_babs_init_InputBIDS.ipynb`\n",
    "\n",
    "# $ jupyter nbconvert --execute --to html notebooks/show_babs_init_fpfsin.ipynb\n",
    "\n",
    "# flake8: noqa\n",
    "\n",
    "# set up how Jupyter notebook behaves:\n",
    "from IPython.core.interactiveshell import InteractiveShell\n",
    "InteractiveShell.ast_node_interactivity = 'all'   # print all outputs\n",
    " \n",
    "# import sys\n",
    "import os\n",
    "import os.path as op"
   ]
  },
  {
   "cell_type": "markdown",
   "metadata": {},
   "source": [
    "There are several arguments when calling `babs-init`:"
   ]
  },
  {
   "cell_type": "code",
   "execution_count": 2,
   "metadata": {},
   "outputs": [],
   "source": [
    "# This notebook only accepts fmriprep with freesurfer ingressed\n",
    "# ++++++++++++++++++++++++++++++++++\n",
    "flag_instance = \"fmriprep_ingressed_fs\"\n",
    "type_session = \"multi-ses\"\n",
    "# ++++++++++++++++++++++++++++++++++\n",
    "where_project = \"/Users/chenyzh/Desktop/Research/Satterthwaite_Lab/datalad_wrapper/data\"\n",
    "where_notebooks = \"/Users/chenyzh/Desktop/Research/Satterthwaite_Lab/datalad_wrapper/babs/notebooks\"\n",
    "\n",
    "if flag_instance == \"fmriprep_ingressed_fs\":\n",
    "    project_name = \"test_babs_\" + type_session + \"_fpfsin\"\n",
    "    bidsapp = \"fmriprep\"\n",
    "    if type_session == \"multi-ses\":\n",
    "        input_ds_bids = op.join(where_project, \"w2nu3\")  # bids, multi-ses\n",
    "        input_ds_fs = op.join(where_project, \"k9zw2\")   # fmriprep done, multi-ses\n",
    "    elif type_session == \"single-ses\":\n",
    "        input_ds_bids = op.join(where_project, \"t8urc\")   # bids, single-ses\n",
    "        input_ds_fs = \"osf://2jvub/\"   # fmriprep done, single-ses\n",
    "else:\n",
    "    raise Exception(\"`flag_instance` is not 'fmriprep_ingressed_fs'!\")\n",
    "\n",
    "container_ds = op.join(where_project, \"toybidsapp-container-docker\")\n",
    "container_name = bidsapp + \"-0-0-0\"  # \"toybidsapp-0-0-3\"\n",
    "container_config_yaml_file = op.join(where_notebooks, \"example_container_\" + flag_instance + \".yaml\")\n",
    "\n",
    "list_sub_file = op.join(where_notebooks, \"initial_sub_list_\" + type_session + \".csv\")"
   ]
  },
  {
   "cell_type": "markdown",
   "metadata": {},
   "source": [
    "Let's pass these arguments into `babs-init` CLI:"
   ]
  },
  {
   "cell_type": "code",
   "execution_count": 3,
   "metadata": {},
   "outputs": [
    {
     "name": "stdout",
     "output_type": "stream",
     "text": [
      "DataLad version: 0.17.2\n",
      "nothing to save, working tree clean\n",
      "nothing to save, working tree clean\n",
      "\n",
      "project_root of this BABS project: /Users/chenyzh/Desktop/Research/Satterthwaite_Lab/datalad_wrapper/data/test_babs_multi-ses_fpfsin\n",
      "type of data of this BABS project: multi-ses\n",
      "job scheduling system of this BABS project: sge\n",
      "\n",
      "\n",
      "Creating `analysis` folder (also a datalad dataset)...\n",
      "\u001b[1;31muntracked\u001b[0m: .gitignore (\u001b[1;35mfile\u001b[0m)\n",
      "Folder 'analysis' exists in the `project_root` and is a datalad dataset; not to re-create it.\n",
      "\n",
      "Creating output and input RIA...\n",
      "\n",
      "Registering the input dataset(s)...\n",
      "The input dataset #1 'BIDS' has been copied into `analysis` folder; not to copy again.\n",
      "The input dataset #2 'freesurfer' has been copied into `analysis` folder; not to copy again.\n",
      "\n",
      "Checking whether each input dataset is a zipped or unzipped dataset...\n",
      "input dataset 'BIDS' is considered as an unzipped dataset.\n",
      "input dataset 'freesurfer' is considered as a zipped dataset.\n",
      "Performing sanity check for any zipped input dataset... Getting example zip file(s) to check...\n",
      "\u001b[1;1mget\u001b[0m(\u001b[1;32mok\u001b[0m): sub-01_ses-A_freesurfer-20.2.3.zip (\u001b[1;35mfile\u001b[0m) [from osf-storage...]\n",
      "\u001b[1;1mdrop\u001b[0m(\u001b[1;32mok\u001b[0m): sub-01_ses-A_freesurfer-20.2.3.zip (\u001b[1;35mfile\u001b[0m)\n",
      "Performing sanity check for any unzipped input dataset...\n",
      "\n",
      "Adding the container as a sub-dataset of `analysis` dataset...\n",
      "The container has been added as a sub-dataset; not to do it again.\n",
      "\n",
      "Generating a bash script for running container and zipping the outputs...\n",
      "This bash script will be named as `fmriprep-0-0-0_zip.sh`\n",
      "\n",
      "/Users/chenyzh/Desktop/Research/Satterthwaite_Lab/datalad_wrapper/babs/babs/utils.py:316: UserWarning: Usually BIDS App depends on TemplateFlow, but environment variable `TEMPLATEFLOW_HOME` was not set up. Therefore, BABS will not export it or bind its directory when running the container. This may cause errors.\n",
      "  warnings.warn(\"Usually BIDS App depends on TemplateFlow,\"\n",
      "Below is the generated `singularity run` command:\n",
      "singularity run --cleanenv -B ${PWD} \\\n",
      "\tcontainers/.datalad/environments/fmriprep-0-0-0/image \\\n",
      "\tinputs/data/BIDS \\\n",
      "\toutputs \\\n",
      "\tparticipant \\\n",
      "\t-w ${PWD}/.git/tmp/wkdir \\\n",
      "\t--n_cpus 1 \\\n",
      "\t--stop-on-first-crash \\\n",
      "\t--fs-license-file code/license.txt \\\n",
      "\t--skip-bids-validation \\\n",
      "\t--output-spaces MNI152NLin6Asym:res-2 \\\n",
      "\t--force-bbr \\\n",
      "\t--cifti-output 91k \\\n",
      "\t-v -v \\\n",
      "\t--fs-subjects-dir inputs/data/freesurfer/freesurfer \\\n",
      "\t--bids-filter-file \"${filterfile}\" \\\n",
      "\t--participant-label \"${subid}\"\n",
      "Traceback (most recent call last):\n",
      "  File \"/Users/chenyzh/opt/miniconda3/envs/mydatalad/bin/babs-init\", line 33, in <module>\n",
      "    sys.exit(load_entry_point('BABS', 'console_scripts', 'babs-init')())\n",
      "  File \"/Users/chenyzh/Desktop/Research/Satterthwaite_Lab/datalad_wrapper/babs/babs/cli.py\", line 80, in babs_init_cli\n",
      "    babs_init(args.where_project, args.project_name,\n",
      "  File \"/Users/chenyzh/Desktop/Research/Satterthwaite_Lab/datalad_wrapper/babs/babs/core_functions.py\", line 84, in babs_init\n",
      "    babs_proj.babs_bootstrap(input_ds, container_ds, container_name, container_config_yaml_file,\n",
      "  File \"/Users/chenyzh/Desktop/Research/Satterthwaite_Lab/datalad_wrapper/babs/babs/babs.py\", line 335, in babs_bootstrap\n",
      "    container.generate_bash_run_bidsapp(bash_path, input_ds, self.type_session)\n",
      "  File \"/Users/chenyzh/Desktop/Research/Satterthwaite_Lab/datalad_wrapper/babs/babs/babs.py\", line 881, in generate_bash_run_bidsapp\n",
      "    raise Exception(\n",
      "Exception: FreeSurfer's license will be used but `$FREESURFER_HOME` was not set. Therefore, BABS cannot copy and paste FreeSurfer's license...\n"
     ]
    }
   ],
   "source": [
    "!(babs-init \\\n",
    "    --where_project $where_project \\\n",
    "    --project_name $project_name \\\n",
    "    --input \"BIDS\" $input_ds_bids \\\n",
    "    --input \"freesurfer\" $input_ds_fs \\\n",
    "    --list_sub_file $list_sub_file \\\n",
    "    --container_ds $container_ds \\\n",
    "    --container_name $container_name \\\n",
    "    --container_config_yaml_file $container_config_yaml_file \\\n",
    "    --type_session $type_session \\\n",
    "    --type_system sge)"
   ]
  }
 ],
 "metadata": {
  "kernelspec": {
   "display_name": "mydatalad",
   "language": "python",
   "name": "python3"
  },
  "language_info": {
   "codemirror_mode": {
    "name": "ipython",
    "version": 3
   },
   "file_extension": ".py",
   "mimetype": "text/x-python",
   "name": "python",
   "nbconvert_exporter": "python",
   "pygments_lexer": "ipython3",
   "version": "3.9.13 | packaged by conda-forge | (main, May 27 2022, 16:58:50) \n[GCC 10.3.0]"
  },
  "orig_nbformat": 4,
  "vscode": {
   "interpreter": {
    "hash": "abcc7813313a81f6f916a4574498d1c2de65ad7fdfeb04d04cdf237cdcbdda8b"
   }
  }
 },
 "nbformat": 4,
 "nbformat_minor": 2
}
