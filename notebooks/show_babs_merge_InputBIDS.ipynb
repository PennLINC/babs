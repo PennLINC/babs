{
    "cells": [
        {
            "cell_type": "markdown",
            "metadata": {},
            "source": [
                "This jupyter notebook is to show function `babs-init`."
            ]
        },
        {
            "cell_type": "code",
            "execution_count": 1,
            "metadata": {},
            "outputs": [],
            "source": [
                "# flake8: noqa\n",
                "\n",
                "# set up how Jupyter notebook behaves:\n",
                "from IPython.core.interactiveshell import InteractiveShell\n",
                "InteractiveShell.ast_node_interactivity = 'all'   # print all outputs\n",
                "\n",
                "import os\n",
                "import os.path as op"
            ]
        },
        {
            "cell_type": "markdown",
            "metadata": {},
            "source": [
                "There are several arguments when calling `babs-init`:"
            ]
        },
        {
            "cell_type": "code",
            "execution_count": 3,
            "metadata": {},
            "outputs": [],
            "source": [
                "# This notebook only accepts toybidsapp, qsiprep or fmriprep or fmriprep_anatonly (input ds: BIDS)\n",
                "# ++++++++++++++++++++++++++++++++++\n",
                "flag_instance = \"fmriprep_anatonly\"\n",
                "type_session = \"single-ses\"\n",
                "which_dataset = \"HBN\"    # \"toy_fake\", \"toy_real\", \"HBN\"\n",
                "\n",
                "flag_where = \"cubic\"     # \"cubic\" or \"local\". For this ipynb (babs-merge), should NOT use \"local\"\n",
                "# ++++++++++++++++++++++++++++++++++\n",
                "\n",
                "# where:\n",
                "if flag_where == \"cubic\":\n",
                "    where_root = \"/cbica/projects/BABS\"\n",
                "    where_project = op.join(where_root, \"data\")\n",
                "    where_notebooks = op.join(where_root, \"babs/notebooks\")\n",
                "elif flag_where == \"local\":\n",
                "    where_root = \"/Users/chenyzh/Desktop/Research/Satterthwaite_Lab/datalad_wrapper\"\n",
                "    where_project = op.join(where_root, \"data\")\n",
                "    where_notebooks = op.join(where_root, \"babs/notebooks\")\n",
                "else:\n",
                "    raise Exception(\"not valid `flag_where`!\")\n",
                "\n",
                "# Input dataset:\n",
                "if which_dataset == \"toy_fake\":\n",
                "    if type_session == \"multi-ses\":\n",
                "        input_ds = op.join(where_project, \"w2nu3\")\n",
                "    elif type_session == \"single-ses\":\n",
                "        input_ds = op.join(where_project, \"t8urc\")\n",
                "elif which_dataset == \"toy_real\":  # real data:\n",
                "    if type_session == \"multi-ses\":\n",
                "        # input_ds = \"/cbica/projects/RBC/chenying_practice/data_for_babs/NKI/data_hashedID_bids\"\n",
                "        input_ds = \"/cbica/projects/BABS/data/testdata_NKI/data_hashedID_bids\"\n",
                "    elif type_session == \"single-ses\":\n",
                "        raise Exception(\"not supported yet!\")\n",
                "elif which_dataset == \"HBN\":  # HBN data:\n",
                "    if type_session == \"single-ses\":\n",
                "        input_ds = \"/cbica/projects/BABS/data/rawdata_HBN\"   # datalad sibling in BABS cubic project\n",
                "    elif type_session == \"multi-ses\":\n",
                "        raise Exception(\"HBN is a single-ses data!\")\n",
                "\n",
                "\n",
                "project_name = \"test_babs_\" + type_session\n",
                "# Based on which dataset:\n",
                "if which_dataset == \"HBN\":   # HBN data:\n",
                "    project_name += \"_HBN\"\n",
                "# Based on which BIDS App:\n",
                "if flag_instance == \"toybidsapp\":\n",
                "    input_cli = [[\"BIDS\", input_ds]]\n",
                "    bidsapp = \"toybidsapp\"\n",
                "    container_name = bidsapp + \"-0-0-6\"\n",
                "elif flag_instance in [\"fmriprep\", \"fmriprep_anatonly\"]:\n",
                "    bidsapp = \"fmriprep\"\n",
                "    container_name = bidsapp + \"-20-2-3\"\n",
                "elif flag_instance == \"qsiprep\":\n",
                "    bidsapp = \"qsiprep\"\n",
                "    container_name = bidsapp + \"-0-16-0RC3\"\n",
                "else:\n",
                "    raise Exception(\"`flag_instance` is not QSIPrep or fMRIPrep!\")\n",
                "\n",
                "project_name += \"_\" + flag_instance\n",
                "\n",
                "project_root = op.join(where_project, project_name)"
            ]
        },
        {
            "cell_type": "markdown",
            "metadata": {},
            "source": [
                "Let's pass these arguments into `babs-init` CLI:"
            ]
        },
        {
            "cell_type": "code",
            "execution_count": 4,
            "metadata": {},
            "outputs": [
                {
                    "name": "stdout",
                    "output_type": "stream",
                    "text": [
                        "The command to execute:\n",
                        "babs-merge \\\n",
                        "\t--project_root /cbica/projects/BABS/data/test_babs_single-ses_HBN_fmriprep_anatonly\n"
                    ]
                }
            ],
            "source": [
                "cmd = \"babs-merge \\\\\\n\"\n",
                "cmd += \"\\t\" + \"--project_root \" + project_root   # + \" \\\\\\n\"\n",
                "\n",
                "print(\"The command to execute:\")\n",
                "print(cmd)\n"
            ]
        },
        {
            "cell_type": "code",
            "execution_count": null,
            "metadata": {},
            "outputs": [],
            "source": [
                "!($cmd)"
            ]
        },
        {
            "cell_type": "markdown",
            "metadata": {},
            "source": [
                "Below are first 20 lines from file 'merge_ds/code/log_git_annex_fsck.txt'"
            ]
        },
        {
            "cell_type": "code",
            "execution_count": null,
            "metadata": {},
            "outputs": [],
            "source": [
                "# print the messages from `git annex fsck`:\n",
                "fn_log_fsck = op.join(project_root, \"merge_ds\", \"code\", \"log_git_annex_fsck.txt\")\n",
                "cmd_log = \"head -20 \" + fn_log_fsck\n",
                "\n",
                "!($cmd_log)\n"
            ]
        }
    ],
    "metadata": {
        "kernelspec": {
            "display_name": "mydatalad",
            "language": "python",
            "name": "python3"
        },
        "language_info": {
            "codemirror_mode": {
                "name": "ipython",
                "version": 3
            },
            "file_extension": ".py",
            "mimetype": "text/x-python",
            "name": "python",
            "nbconvert_exporter": "python",
            "pygments_lexer": "ipython3",
            "version": "3.9.13"
        },
        "orig_nbformat": 4,
        "vscode": {
            "interpreter": {
                "hash": "abcc7813313a81f6f916a4574498d1c2de65ad7fdfeb04d04cdf237cdcbdda8b"
            }
        }
    },
    "nbformat": 4,
    "nbformat_minor": 2
}
