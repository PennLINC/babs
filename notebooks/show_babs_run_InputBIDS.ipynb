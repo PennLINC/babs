{
 "cells": [
  {
   "cell_type": "code",
   "execution_count": 3,
   "metadata": {},
   "outputs": [
    {
     "ename": "ModuleNotFoundError",
     "evalue": "No module named 'babs'",
     "output_type": "error",
     "traceback": [
      "\u001b[0;31m---------------------------------------------------------------------------\u001b[0m",
      "\u001b[0;31mModuleNotFoundError\u001b[0m                       Traceback (most recent call last)",
      "\u001b[1;32m/cbica/projects/BABS/babs/notebooks/show_babs_run_InputBIDS.ipynb Cell 1\u001b[0m in \u001b[0;36m<cell line: 4>\u001b[0;34m()\u001b[0m\n\u001b[1;32m      <a href='vscode-notebook-cell://localhost:8767/cbica/projects/BABS/babs/notebooks/show_babs_run_InputBIDS.ipynb#W1sdnNjb2RlLXJlbW90ZQ%3D%3D?line=0'>1</a>\u001b[0m \u001b[39mimport\u001b[39;00m \u001b[39mos\u001b[39;00m\n\u001b[1;32m      <a href='vscode-notebook-cell://localhost:8767/cbica/projects/BABS/babs/notebooks/show_babs_run_InputBIDS.ipynb#W1sdnNjb2RlLXJlbW90ZQ%3D%3D?line=1'>2</a>\u001b[0m \u001b[39mimport\u001b[39;00m \u001b[39mos\u001b[39;00m\u001b[39m.\u001b[39;00m\u001b[39mpath\u001b[39;00m \u001b[39mas\u001b[39;00m \u001b[39mop\u001b[39;00m\n\u001b[0;32m----> <a href='vscode-notebook-cell://localhost:8767/cbica/projects/BABS/babs/notebooks/show_babs_run_InputBIDS.ipynb#W1sdnNjb2RlLXJlbW90ZQ%3D%3D?line=3'>4</a>\u001b[0m \u001b[39mfrom\u001b[39;00m \u001b[39mbabs\u001b[39;00m\u001b[39m.\u001b[39;00m\u001b[39mcore_functions\u001b[39;00m \u001b[39mimport\u001b[39;00m babs_submit\n",
      "\u001b[0;31mModuleNotFoundError\u001b[0m: No module named 'babs'"
     ]
    }
   ],
   "source": [
    "import os\n",
    "import os.path as op"
   ]
  },
  {
   "cell_type": "code",
   "execution_count": 2,
   "metadata": {},
   "outputs": [
    {
     "ename": "NameError",
     "evalue": "name 'babs_submit' is not defined",
     "output_type": "error",
     "traceback": [
      "\u001b[0;31m---------------------------------------------------------------------------\u001b[0m",
      "\u001b[0;31mNameError\u001b[0m                                 Traceback (most recent call last)",
      "\u001b[1;32m/cbica/projects/BABS/babs/notebooks/show_babs_run_InputBIDS.ipynb Cell 2\u001b[0m in \u001b[0;36m<cell line: 29>\u001b[0;34m()\u001b[0m\n\u001b[1;32m     <a href='vscode-notebook-cell://localhost:8767/cbica/projects/BABS/babs/notebooks/show_babs_run_InputBIDS.ipynb#W2sdnNjb2RlLXJlbW90ZQ%3D%3D?line=24'>25</a>\u001b[0m     \u001b[39mraise\u001b[39;00m \u001b[39mException\u001b[39;00m(\u001b[39m\"\u001b[39m\u001b[39mnot valid `flag_instance`!\u001b[39m\u001b[39m\"\u001b[39m)\n\u001b[1;32m     <a href='vscode-notebook-cell://localhost:8767/cbica/projects/BABS/babs/notebooks/show_babs_run_InputBIDS.ipynb#W2sdnNjb2RlLXJlbW90ZQ%3D%3D?line=26'>27</a>\u001b[0m babs_project \u001b[39m=\u001b[39m op\u001b[39m.\u001b[39mjoin(where_project, project_name)\n\u001b[0;32m---> <a href='vscode-notebook-cell://localhost:8767/cbica/projects/BABS/babs/notebooks/show_babs_run_InputBIDS.ipynb#W2sdnNjb2RlLXJlbW90ZQ%3D%3D?line=28'>29</a>\u001b[0m babs_submit(babs_project, count)\n\u001b[1;32m     <a href='vscode-notebook-cell://localhost:8767/cbica/projects/BABS/babs/notebooks/show_babs_run_InputBIDS.ipynb#W2sdnNjb2RlLXJlbW90ZQ%3D%3D?line=30'>31</a>\u001b[0m \u001b[39mprint\u001b[39m()\n",
      "\u001b[0;31mNameError\u001b[0m: name 'babs_submit' is not defined"
     ]
    }
   ],
   "source": [
    "# This notebook only accepts toybidsapp, qsiprep or fmriprep (input ds: BIDS)\n",
    "# ++++++++++++++++++++++++++++++++++\n",
    "flag_instance = \"toybidsapp\"\n",
    "type_session = \"multi-ses\"\n",
    "is_real_data = True\n",
    "\n",
    "flag_where = \"cubic\"     # \"cubic\" or \"local\"\n",
    "# ++++++++++++++++++++++++++++++++++\n",
    "\n",
    "# where:\n",
    "if flag_where == \"cubic\":\n",
    "    where_project = \"/cbica/projects/BABS/data\"\n",
    "elif flag_where == \"local\":\n",
    "    where_project = \"/Users/chenyzh/Desktop/Research/Satterthwaite_Lab/datalad_wrapper/data\"\n",
    "else:\n",
    "    raise Exception(\"not valid `flag_where`!\")\n",
    "\n",
    "if flag_instance == \"toybidsapp\":\n",
    "    project_name = \"test_babs_\" + type_session + \"_\" + flag_instance\n",
    "elif flag_instance == \"fmriprep\":\n",
    "    project_name = \"test_babs_\" + type_session + \"_\" + flag_instance\n",
    "elif flag_instance == \"qsiprep\":\n",
    "    project_name = \"test_babs_\" + type_session + \"_\" + flag_instance\n",
    "else:\n",
    "    raise Exception(\"not valid `flag_instance`!\")\n",
    "\n",
    "babs_project = op.join(where_project, project_name)\n",
    "\n",
    "# TODO: generate the command of `babs-submit`\n",
    "\n",
    "print()"
   ]
  }
 ],
 "metadata": {
  "kernelspec": {
   "display_name": "mydatalad",
   "language": "python",
   "name": "python3"
  },
  "language_info": {
   "codemirror_mode": {
    "name": "ipython",
    "version": 3
   },
   "file_extension": ".py",
   "mimetype": "text/x-python",
   "name": "python",
   "nbconvert_exporter": "python",
   "pygments_lexer": "ipython3",
   "version": "3.9.13"
  },
  "orig_nbformat": 4,
  "vscode": {
   "interpreter": {
    "hash": "abcc7813313a81f6f916a4574498d1c2de65ad7fdfeb04d04cdf237cdcbdda8b"
   }
  }
 },
 "nbformat": 4,
 "nbformat_minor": 2
}
