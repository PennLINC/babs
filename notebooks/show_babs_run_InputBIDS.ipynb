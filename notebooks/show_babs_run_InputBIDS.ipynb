{
 "cells": [
  {
   "cell_type": "code",
   "execution_count": 1,
   "metadata": {},
   "outputs": [],
   "source": [
    "import os\n",
    "import os.path as op"
   ]
  },
  {
   "cell_type": "code",
   "execution_count": 2,
   "metadata": {},
   "outputs": [
    {
     "name": "stdout",
     "output_type": "stream",
     "text": [
      "\n"
     ]
    }
   ],
   "source": [
    "# This notebook only accepts toybidsapp, qsiprep or fmriprep (input ds: BIDS)\n",
    "# ++++++++++++++++++++++++++++++++++\n",
    "flag_instance = \"qsiprep\"\n",
    "type_session = \"multi-ses\"\n",
    "count = 1\n",
    "\n",
    "flag_where = \"cubic\"     # \"cubic\" or \"local\"\n",
    "# ++++++++++++++++++++++++++++++++++\n",
    "\n",
    "# where:\n",
    "if flag_where == \"cubic\":\n",
    "    where_project = \"/cbica/projects/BABS/data\"\n",
    "elif flag_where == \"local\":\n",
    "    where_project = \"/Users/chenyzh/Desktop/Research/Satterthwaite_Lab/datalad_wrapper/data\"\n",
    "else:\n",
    "    raise Exception(\"not valid `flag_where`!\")\n",
    "\n",
    "if flag_instance == \"toybidsapp\":\n",
    "    project_name = \"test_babs_\" + type_session + \"_\" + flag_instance\n",
    "elif flag_instance == \"fmriprep\":\n",
    "    project_name = \"test_babs_\" + type_session + \"_\" + flag_instance\n",
    "elif flag_instance == \"qsiprep\":\n",
    "    project_name = \"test_babs_\" + type_session + \"_\" + flag_instance\n",
    "else:\n",
    "    raise Exception(\"not valid `flag_instance`!\")\n",
    "\n",
    "babs_project = op.join(where_project, project_name)\n",
    "\n",
    "# TODO: generate the command of `babs-submit`\n",
    "\n",
    "print()"
   ]
  },
  {
   "cell_type": "code",
   "execution_count": 3,
   "metadata": {},
   "outputs": [
    {
     "name": "stdout",
     "output_type": "stream",
     "text": [
      "babs-submit --project_root /cbica/projects/BABS/data/test_babs_multi-ses_qsiprep --count 1\n"
     ]
    }
   ],
   "source": [
    "cmd_submit = \"babs-submit \"\n",
    "cmd_submit += \"--project_root \" + babs_project + \" \"\n",
    "cmd_submit += \"--count \" + str(count)\n",
    "\n",
    "print(cmd_submit)"
   ]
  },
  {
   "cell_type": "code",
   "execution_count": 4,
   "metadata": {},
   "outputs": [
    {
     "name": "stdout",
     "output_type": "stream",
     "text": [
      "babs-status --project_root /cbica/projects/BABS/data/test_babs_multi-ses_qsiprep\n"
     ]
    }
   ],
   "source": [
    "cmd_status = \"babs-status \"\n",
    "cmd_status += \"--project_root \" + babs_project\n",
    "\n",
    "print(cmd_status)"
   ]
  }
 ],
 "metadata": {
  "kernelspec": {
   "display_name": "mydatalad",
   "language": "python",
   "name": "python3"
  },
  "language_info": {
   "codemirror_mode": {
    "name": "ipython",
    "version": 3
   },
   "file_extension": ".py",
   "mimetype": "text/x-python",
   "name": "python",
   "nbconvert_exporter": "python",
   "pygments_lexer": "ipython3",
   "version": "3.9.13 | packaged by conda-forge | (main, May 27 2022, 16:58:50) \n[GCC 10.3.0]"
  },
  "orig_nbformat": 4,
  "vscode": {
   "interpreter": {
    "hash": "abcc7813313a81f6f916a4574498d1c2de65ad7fdfeb04d04cdf237cdcbdda8b"
   }
  }
 },
 "nbformat": 4,
 "nbformat_minor": 2
}
