{
 "cells": [
  {
   "cell_type": "code",
   "execution_count": 5,
   "metadata": {},
   "outputs": [],
   "source": [
    "import os\n",
    "import os.path as op"
   ]
  },
  {
   "cell_type": "code",
   "execution_count": 6,
   "metadata": {},
   "outputs": [
    {
     "name": "stdout",
     "output_type": "stream",
     "text": [
      "\n"
     ]
    }
   ],
   "source": [
    "# This notebook only accepts toybidsapp, qsiprep or fmriprep or fmriprep_anatonly (input ds: BIDS)\n",
    "# ++++++++++++++++++++++++++++++++++\n",
    "flag_instance = \"toybidsapp\"\n",
    "type_session = \"single-ses\"\n",
    "which_dataset = \"HBN\"    # \"toy_fake\", \"toy_real\", \"HBN\"\n",
    "# TODO: change the path!!\n",
    "count = 1\n",
    "\n",
    "flag_where = \"cubic\"     # \"cubic\" or \"local\"\n",
    "# ++++++++++++++++++++++++++++++++++\n",
    "\n",
    "# where:\n",
    "if flag_where == \"cubic\":\n",
    "    where_root = \"/cbica/projects/BABS\"\n",
    "    where_project = \"/cbica/projects/BABS/data\"\n",
    "    where_notebooks = op.join(where_root, \"babs/notebooks\")\n",
    "elif flag_where == \"local\":\n",
    "    where_root = \"/Users/chenyzh/Desktop/Research/Satterthwaite_Lab/datalad_wrapper\"\n",
    "    where_project = \"/Users/chenyzh/Desktop/Research/Satterthwaite_Lab/datalad_wrapper/data\"\n",
    "    where_notebooks = op.join(where_root, \"babs/notebooks\")\n",
    "else:\n",
    "    raise Exception(\"not valid `flag_where`!\")\n",
    "\n",
    "# sanity checks:\n",
    "if flag_instance not in [\"toybidsapp\", \"fmriprep\", \"fmriprep_anatonly\", \"qsiprep\"]:\n",
    "    raise Exception(\"not valid `flag_instance`!\")\n",
    "if (which_dataset == \"HBN\") & (type_session != \"single-ses\"):\n",
    "    raise Exception(\"HBN is a single-ses dataset!\")\n",
    "\n",
    "project_name = \"test_babs_\" + type_session\n",
    "if which_dataset == \"HBN\":\n",
    "    project_name += \"_HBN\"\n",
    "project_name += \"_\" + flag_instance\n",
    "\n",
    "babs_project = op.join(where_project, project_name)\n",
    "container_config_yaml_file = op.join(where_notebooks, \"example_container_\" + flag_instance + \".yaml\")\n",
    "\n",
    "print()"
   ]
  },
  {
   "cell_type": "code",
   "execution_count": 7,
   "metadata": {},
   "outputs": [
    {
     "name": "stdout",
     "output_type": "stream",
     "text": [
      "babs-submit  \\\n",
      "--project_root /cbica/projects/BABS/data/test_babs_single-ses_HBN_toybidsapp \\\n",
      "--count 1\n"
     ]
    }
   ],
   "source": [
    "cmd_submit = \"babs-submit \" + \" \\\\\\n\"\n",
    "cmd_submit += \"--project_root \" + babs_project + \" \\\\\\n\"\n",
    "cmd_submit += \"--count \" + str(count)\n",
    "\n",
    "print(cmd_submit)"
   ]
  },
  {
   "cell_type": "code",
   "execution_count": 8,
   "metadata": {},
   "outputs": [
    {
     "name": "stdout",
     "output_type": "stream",
     "text": [
      "babs-status  \\\n",
      "--project_root /cbica/projects/BABS/data/test_babs_single-ses_HBN_toybidsapp \\\n",
      "--container_config_yaml_file /cbica/projects/BABS/babs/notebooks/example_container_toybidsapp.yaml\n"
     ]
    }
   ],
   "source": [
    "cmd_status = \"babs-status \" + \" \\\\\\n\"\n",
    "cmd_status += \"--project_root \" + babs_project + \" \\\\\\n\"\n",
    "cmd_status += \"--container_config_yaml_file \" + container_config_yaml_file\n",
    "\n",
    "print(cmd_status)"
   ]
  }
 ],
 "metadata": {
  "kernelspec": {
   "display_name": "mydatalad",
   "language": "python",
   "name": "python3"
  },
  "language_info": {
   "codemirror_mode": {
    "name": "ipython",
    "version": 3
   },
   "file_extension": ".py",
   "mimetype": "text/x-python",
   "name": "python",
   "nbconvert_exporter": "python",
   "pygments_lexer": "ipython3",
   "version": "3.9.13"
  },
  "orig_nbformat": 4,
  "vscode": {
   "interpreter": {
    "hash": "abcc7813313a81f6f916a4574498d1c2de65ad7fdfeb04d04cdf237cdcbdda8b"
   }
  }
 },
 "nbformat": 4,
 "nbformat_minor": 2
}
