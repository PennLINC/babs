{
    "cells": [
        {
            "cell_type": "markdown",
            "metadata": {},
            "source": [
                "This jupyter notebook is to show function `babs-init`."
            ]
        },
        {
            "cell_type": "code",
            "execution_count": 1,
            "metadata": {},
            "outputs": [],
            "source": [
                "# See `README_howtorun_show_babs_init_ipynb.md` for how to run this file!\n",
                "\n",
                "# Clone out:\n",
                "#   datalad clone ria+file:///path/to/<container>/output_ria#~data singleORmulti-ses_<container>_outputs\n",
                "# If you want to change `project_root`'s foldername, also change `output_ria/alias/data` symlink:\n",
                "    # cd output_ria/alias\n",
                "    # ln -sf /new/full/path/to/output_ria/xxx/xxx-xxx-xxx-xxx data\n",
                "\n",
                "# flake8: noqa\n",
                "\n",
                "# set up how Jupyter notebook behaves:\n",
                "from IPython.core.interactiveshell import InteractiveShell\n",
                "InteractiveShell.ast_node_interactivity = 'all'   # print all outputs\n",
                "\n",
                "import os\n",
                "import os.path as op"
            ]
        },
        {
            "cell_type": "markdown",
            "metadata": {},
            "source": [
                "There are several arguments when calling `babs-init`:"
            ]
        },
        {
            "cell_type": "code",
            "execution_count": 4,
            "metadata": {},
            "outputs": [
                {
                    "name": "stdout",
                    "output_type": "stream",
                    "text": [
                        "/home/faird/zhaoc/babs/notebooks/eg_fmriprep-20-2-3_sloppy_slurm_msi.yaml\n"
                    ]
                }
            ],
            "source": [
                "# This notebook only accepts toybidsapp_rawBIDS, qsiprep or fmriprep\n",
                "#   or fmriprep_anatonly or 'fmriprep_sloppyFlag' or fmriprepfake (input ds: BIDS)\n",
                "# ++++++++++++++++++++++++++++++++++\n",
                "bidsapp = \"fmriprep\"\n",
                "task_name = \"sloppy\"   # for fmriprep: 'anatonly', 'sloppy'; for toybidsapp: 'rawBIDS'\n",
                "type_session = \"single-ses\"\n",
                "which_dataset = \"PNC\"    # \"toy_fake\", \"toy_real\", \"HBN\", \"PNC\"\n",
                "\n",
                "flag_where = \"msi\"     # \"cubic\" or \"local\" or \"msi\"\n",
                "type_system = \"slurm\"   # \"sge\" or \"slurm\"\n",
                "# ++++++++++++++++++++++++++++++++++\n",
                "\n",
                "# sanity checks:\n",
                "if flag_where == \"cubic\":\n",
                "    assert type_system == \"sge\"\n",
                "elif flag_where == \"msi\":\n",
                "    assert type_system == \"slurm\"\n",
                "\n",
                "# where:\n",
                "if flag_where == \"cubic\":\n",
                "    where_root = \"/cbica/projects/BABS\"\n",
                "    where_project = op.join(where_root, \"data\")\n",
                "    where_notebooks = op.join(where_root, \"babs/notebooks\")\n",
                "elif flag_where == \"local\":\n",
                "    where_root = \"/Users/chenyzh/Desktop/Research/Satterthwaite_Lab/datalad_wrapper\"\n",
                "    where_project = op.join(where_root, \"data\")\n",
                "    where_notebooks = op.join(where_root, \"babs/notebooks\")\n",
                "elif flag_where == \"msi\":\n",
                "    where_root = \"/home/faird/zhaoc\"\n",
                "    where_project = \"/home/faird/zhaoc/data\"\n",
                "    where_notebooks = op.join(where_root, \"babs/notebooks\")\n",
                "else:\n",
                "    raise Exception(\"not valid `flag_where`!\")\n",
                "\n",
                "# Input dataset:\n",
                "if which_dataset == \"toy_fake\":\n",
                "    if type_session == \"multi-ses\":\n",
                "        input_ds = \"https://osf.io/w2nu3/\"\n",
                "        # input_ds = op.join(where_project, \"w2nu3\")\n",
                "    elif type_session == \"single-ses\":\n",
                "        input_ds = \t\"https://osf.io/t8urc/\"\n",
                "        # input_ds = op.join(where_project, \"t8urc\")\n",
                "elif which_dataset == \"toy_real\":  # real data:\n",
                "    if type_session == \"multi-ses\":\n",
                "        # input_ds = \"/cbica/projects/RBC/chenying_practice/data_for_babs/NKI/data_hashedID_bids\"\n",
                "        input_ds = \"/cbica/projects/BABS/data/testdata_NKI/data_hashedID_bids\"\n",
                "    elif type_session == \"single-ses\":\n",
                "        raise Exception(\"not supported yet!\")\n",
                "elif which_dataset == \"HBN\":  # HBN data:\n",
                "    if type_session == \"single-ses\":\n",
                "        input_ds = \"/cbica/projects/BABS/data/rawdata_HBN\"   # datalad sibling in BABS cubic project\n",
                "    elif type_session == \"multi-ses\":\n",
                "        raise Exception(\"HBN is a single-ses data!\")\n",
                "elif which_dataset == \"PNC\":   # PNC data:\n",
                "    assert type_session == \"single-ses\"\n",
                "    input_ds = \"/home/faird/zhaoc/data/PNC_BIDS\"  # cloned from RBC github account\n",
                "\n",
                "\n",
                "project_name = \"test_babs_\" + type_session\n",
                "# Based on which dataset:\n",
                "if which_dataset in [\"HBN\", \"PNC\"]:   # specific real dataset\n",
                "    project_name += \"_\" + which_dataset\n",
                "# Based on which BIDS App:\n",
                "if bidsapp == \"toybidsapp\":\n",
                "    input_cli = [[\"BIDS\", input_ds]]\n",
                "    container_name = bidsapp + \"-0-0-7\"\n",
                "elif bidsapp in [\"fmriprep\", \"fmriprep_anatonly\", \"fmriprep_sloppy\"]:\n",
                "    container_name = bidsapp + \"-20-2-3\"\n",
                "elif bidsapp == \"qsiprep\":\n",
                "    container_name = bidsapp + \"-0-16-0RC3\"\n",
                "elif bidsapp == \"fmriprepfake\":\n",
                "    container_name = bidsapp + \"-0-1-1\"\n",
                "else:\n",
                "    raise Exception(\"Invalid `flag_instance`!\")\n",
                "\n",
                "project_name += \"_\" + bidsapp + \"_\" + task_name\n",
                "\n",
                "\n",
                "# Container:\n",
                "container_ds = op.join(where_project, bidsapp + \"-container\")  \n",
                "if flag_where == \"local\":\n",
                "    # container_ds += \"-docker\"   # add \"docker\" at the end\n",
                "    container_ds = op.join(where_project, \"toybidsapp-container-docker\")\n",
                "\n",
                "container_config_yaml_file = op.join(where_notebooks, \"eg_\" + container_name\n",
                "    + \"_\" + task_name + \"_\" + type_system)\n",
                "if flag_where in [\"cubic\", \"msi\"]:\n",
                "    container_config_yaml_file += \"_\" + flag_where\n",
                "else:\n",
                "    if type_system == \"sge\":\n",
                "        container_config_yaml_file += \"_\" + \"cubic\"\n",
                "    elif type_system == \"slurm\":\n",
                "        container_config_yaml_file += \"_\" + \"msi\"\n",
                "container_config_yaml_file += \".yaml\"\n",
                "print(container_config_yaml_file)\n",
                "assert op.exists(container_config_yaml_file)\n",
                "# container_config_yaml_file = op.join(where_notebooks, \"example_container_\" + flag_instance + \".yaml\")\n",
                "\n",
                "# list_sub_file = op.join(where_notebooks, \"initial_sub_list_\" + type_session + \".csv\")\n",
                "list_sub_file = None"
            ]
        },
        {
            "cell_type": "markdown",
            "metadata": {},
            "source": [
                "Let's pass these arguments into `babs-init` CLI:"
            ]
        },
        {
            "cell_type": "code",
            "execution_count": 5,
            "metadata": {},
            "outputs": [
                {
                    "name": "stdout",
                    "output_type": "stream",
                    "text": [
                        "The command to execute:\n",
                        "babs-init \\\n",
                        "\t--where_project /home/faird/zhaoc/data \\\n",
                        "\t--project_name test_babs_single-ses_PNC_fmriprep_sloppy \\\n",
                        "\t--input BIDS /home/faird/zhaoc/data/PNC_BIDS \\\n",
                        "\t--container_ds /home/faird/zhaoc/data/fmriprep-container \\\n",
                        "\t--container_name fmriprep-20-2-3 \\\n",
                        "\t--container_config_yaml_file /home/faird/zhaoc/babs/notebooks/eg_fmriprep-20-2-3_sloppy_slurm_msi.yaml \\\n",
                        "\t--type_session single-ses \\\n",
                        "\t--type_system slurm\n",
                        "WARNING: make sure you've changed `--fs-license-file` value in YAML file if you use it!!!\n"
                    ]
                }
            ],
            "source": [
                "cmd = \"babs-init \\\\\\n\"\n",
                "cmd += \"\\t\" + \"--where_project \" + where_project + \" \\\\\\n\"\n",
                "cmd += \"\\t\" + \"--project_name \" + project_name + \" \\\\\\n\"\n",
                "cmd += \"\\t\" + \"--input \" + \"BIDS\" + \" \" + input_ds + \" \\\\\\n\"\n",
                "if list_sub_file is not None:\n",
                "    cmd += \"\\t\" + \"--list_sub_file \" + list_sub_file + \" \\\\\\n\"\n",
                "cmd += \"\\t\" + \"--container_ds \" + container_ds + \" \\\\\\n\"\n",
                "cmd += \"\\t\" + \"--container_name \" + container_name + \" \\\\\\n\"\n",
                "cmd += \"\\t\" + \"--container_config_yaml_file \" + container_config_yaml_file + \" \\\\\\n\"\n",
                "cmd += \"\\t\" + \"--type_session \" + type_session + \" \\\\\\n\"\n",
                "cmd += \"\\t\" + \"--type_system \" + type_system\n",
                "\n",
                "print(\"The command to execute:\")\n",
                "print(cmd)\n",
                "print(\"WARNING: make sure you've changed `--fs-license-file` value in YAML file if you use it!!!\")"
            ]
        },
        {
            "cell_type": "code",
            "execution_count": null,
            "metadata": {},
            "outputs": [],
            "source": [
                "!($cmd)"
            ]
        }
    ],
    "metadata": {
        "kernelspec": {
            "display_name": "babs",
            "language": "python",
            "name": "python3"
        },
        "language_info": {
            "codemirror_mode": {
                "name": "ipython",
                "version": 3
            },
            "file_extension": ".py",
            "mimetype": "text/x-python",
            "name": "python",
            "nbconvert_exporter": "python",
            "pygments_lexer": "ipython3",
            "version": "3.9.16"
        },
        "orig_nbformat": 4,
        "vscode": {
            "interpreter": {
                "hash": "2538d15ebb217aff7ed13fa29cc6f5f706af190e6008d76f30d7ce8c1383d79a"
            }
        }
    },
    "nbformat": 4,
    "nbformat_minor": 2
}
