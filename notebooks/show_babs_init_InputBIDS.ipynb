{
 "cells": [
  {
   "cell_type": "markdown",
   "metadata": {},
   "source": [
    "This jupyter notebook is to show function `babs-init`."
   ]
  },
  {
   "cell_type": "code",
   "execution_count": 1,
   "metadata": {},
   "outputs": [],
   "source": [
    "# generate html file from this ipynb: \n",
    "# 1. set up the terminal:\n",
    "#   $ source ~/.bashrc   # freesurfer and templateflow env variables\n",
    "#   $ conda activate mydatalad\n",
    "# 2. manually install BABS:\n",
    "#   $ pip install -e .\n",
    "# 3. then run:\n",
    "#   $ jupyter nbconvert --execute --to html notebooks/show_babs_init_InputBIDS.ipynb\n",
    "\n",
    "# flake8: noqa\n",
    "\n",
    "# set up how Jupyter notebook behaves:\n",
    "from IPython.core.interactiveshell import InteractiveShell\n",
    "InteractiveShell.ast_node_interactivity = 'all'   # print all outputs\n",
    " \n",
    "# import sys\n",
    "import os\n",
    "import os.path as op\n",
    "# sys.path.append( os.path.join(os.path.dirname(os.path.dirname(os.path.abspath(os.path.abspath('')))), \"babs\"  ))\n",
    "\n",
    "# from babs.core_functions import babs_init\n",
    "# from babs.cli import *\n"
   ]
  },
  {
   "cell_type": "markdown",
   "metadata": {},
   "source": [
    "There are several arguments when calling `babs-init`:"
   ]
  },
  {
   "cell_type": "code",
   "execution_count": 5,
   "metadata": {},
   "outputs": [],
   "source": [
    "# This notebook only accepts qsiprep or fmriprep (input ds: BIDS)\n",
    "# ++++++++++++++++++++++++++++++++++\n",
    "flag_instance = \"qsiprep\"\n",
    "type_session = \"multi-ses\"\n",
    "# ++++++++++++++++++++++++++++++++++\n",
    "where_project = \"/Users/chenyzh/Desktop/Research/Satterthwaite_Lab/datalad_wrapper/data\"\n",
    "where_notebooks = \"/Users/chenyzh/Desktop/Research/Satterthwaite_Lab/datalad_wrapper/babs/notebooks\"\n",
    "\n",
    "if flag_instance == \"fmriprep\":\n",
    "    if type_session == \"multi-ses\":\n",
    "        input_ds = op.join(where_project, \"j854e\")\n",
    "    elif type_session == \"single-ses\":\n",
    "        input_ds = op.join(where_project, \"zd9a6\")\n",
    "\n",
    "    project_name = \"test_babs_\" + type_session + \"_fmriprep\"\n",
    "    bidsapp = \"fmriprep\"\n",
    "\n",
    "elif flag_instance == \"qsiprep\":\n",
    "    project_name = \"test_babs_\" + type_session + \"_qsiprep\"\n",
    "    bidsapp = \"qsiprep\"\n",
    "    if type_session == \"multi-ses\":\n",
    "        input_ds = op.join(where_project, \"j854e\")\n",
    "    elif type_session == \"single-ses\":\n",
    "        input_ds = op.join(where_project, \"zd9a6\")\n",
    "\n",
    "else:\n",
    "    raise Exception(\"`flag_instance` is not QSIPrep or fMRIPrep!\")\n",
    "\n",
    "container_ds = op.join(where_project, \"toybidsapp-container-docker\")\n",
    "container_name = bidsapp + \"-0-0-0\"  # \"toybidsapp-0-0-3\"\n",
    "container_config_yaml_file = op.join(where_notebooks, \"example_container_\" + flag_instance + \".yaml\")\n"
   ]
  },
  {
   "cell_type": "markdown",
   "metadata": {},
   "source": [
    "Let's pass these arguments into `babs-init` CLI:"
   ]
  },
  {
   "cell_type": "code",
   "execution_count": 6,
   "metadata": {},
   "outputs": [
    {
     "name": "stdout",
     "output_type": "stream",
     "text": [
      "DataLad version: 0.17.2\n",
      "nothing to save, working tree clean\n",
      "\n",
      "project_root of this BABS project: /Users/chenyzh/Desktop/Research/Satterthwaite_Lab/datalad_wrapper/data/test_babs_multi-ses_qsiprep\n",
      "type of data of this BABS project: multi-ses\n",
      "job scheduling system of this BABS project: sge\n",
      "\n",
      "\n",
      "Creating `analysis` folder (also a datalad dataset)...\n",
      "\u001b[1;31muntracked\u001b[0m: .gitignore (\u001b[1;35mfile\u001b[0m)\n",
      "  \u001b[1;31mdeleted\u001b[0m: code/sub_missing_any_ses_required_file.csv (\u001b[1;35mfile\u001b[0m)\n",
      "Folder 'analysis' exists in the `project_root` and is a datalad dataset; not to re-create it.\n",
      "\n",
      "Creating output and input RIA...\n",
      "\n",
      "Registering the input dataset(s)...\n",
      "The input dataset #1 'BIDS' has been copied into `analysis` folder; not to copy again.\n",
      "\n",
      "Checking whether each input dataset is a zipped or unzipped dataset...\n",
      "input dataset 'BIDS' is considered as an unzipped dataset.\n",
      "Performing sanity check for any unzipped input dataset...\n",
      "\n",
      "Adding the container as a sub-dataset of `analysis` dataset...\n",
      "The container has been added as a sub-dataset; not to do it again.\n",
      "\n",
      "Generating a bash script for running container and zipping the outputs...\n",
      "This bash script will be named as `qsiprep-0-0-0_zip.sh`\n",
      "\n",
      "/Users/chenyzh/Desktop/Research/Satterthwaite_Lab/datalad_wrapper/babs/babs/utils.py:316: UserWarning: Usually BIDS App depends on TemplateFlow, but environment variable `TEMPLATEFLOW_HOME` was not set up. Therefore, BABS will not export it or bind its directory when running the container. This may cause errors.\n",
      "  warnings.warn(\"Usually BIDS App depends on TemplateFlow,\"\n",
      "Below is the generated `singularity run` command:\n",
      "singularity run --cleanenv -B ${PWD} \\\n",
      "\tcontainers/.datalad/environments/qsiprep-0-0-0/image \\\n",
      "\tinputs/data/BIDS \\\n",
      "\toutputs \\\n",
      "\tparticipant \\\n",
      "\t-v -v \\\n",
      "\t-w ${PWD}/.git/tmp/wkdir \\\n",
      "\t--n_cpus $NSLOTS \\\n",
      "\t--stop-on-first-crash \\\n",
      "\t--fs-license-file code/license.txt \\\n",
      "\t--skip-bids-validation \\\n",
      "\t--unringing-method mrdegibbs \\\n",
      "\t--output-resolution 2.0 \\\n",
      "\t--bids-filter-file \"${filterfile}\" \\\n",
      "\t--participant-label \"${subid}\"\n",
      "Traceback (most recent call last):\n",
      "  File \"/Users/chenyzh/opt/miniconda3/envs/mydatalad/bin/babs-init\", line 33, in <module>\n",
      "    sys.exit(load_entry_point('BABS', 'console_scripts', 'babs-init')())\n",
      "  File \"/Users/chenyzh/Desktop/Research/Satterthwaite_Lab/datalad_wrapper/babs/babs/cli.py\", line 80, in babs_init_cli\n",
      "    babs_init(args.where_project, args.project_name,\n",
      "  File \"/Users/chenyzh/Desktop/Research/Satterthwaite_Lab/datalad_wrapper/babs/babs/core_functions.py\", line 84, in babs_init\n",
      "    babs_proj.babs_bootstrap(input_ds, container_ds, container_name, container_config_yaml_file,\n",
      "  File \"/Users/chenyzh/Desktop/Research/Satterthwaite_Lab/datalad_wrapper/babs/babs/babs.py\", line 335, in babs_bootstrap\n",
      "    container.generate_bash_run_bidsapp(bash_path, input_ds, self.type_session)\n",
      "  File \"/Users/chenyzh/Desktop/Research/Satterthwaite_Lab/datalad_wrapper/babs/babs/babs.py\", line 879, in generate_bash_run_bidsapp\n",
      "    raise Exception(\n",
      "Exception: FreeSurfer's license will be used but `$FREESURFER_HOME` was not set. Therefore, BABS cannot copy and paste FreeSurfer's license...\n"
     ]
    }
   ],
   "source": [
    "!(babs-init \\\n",
    "    --where_project $where_project \\\n",
    "    --project_name $project_name \\\n",
    "    --input \"BIDS\" $input_ds \\\n",
    "    --container_ds $container_ds \\\n",
    "    --container_name $container_name \\\n",
    "    --container_config_yaml_file $container_config_yaml_file \\\n",
    "    --type_session $type_session \\\n",
    "    --type_system sge)"
   ]
  }
 ],
 "metadata": {
  "kernelspec": {
   "display_name": "Python 3.9.12 ('mydatalad')",
   "language": "python",
   "name": "python3"
  },
  "language_info": {
   "codemirror_mode": {
    "name": "ipython",
    "version": 3
   },
   "file_extension": ".py",
   "mimetype": "text/x-python",
   "name": "python",
   "nbconvert_exporter": "python",
   "pygments_lexer": "ipython3",
   "version": "3.9.12"
  },
  "orig_nbformat": 4,
  "vscode": {
   "interpreter": {
    "hash": "db259b60f6b86d680255949883ddf0de74b7e9cf285c3fc5f1dccd3fe78d756b"
   }
  }
 },
 "nbformat": 4,
 "nbformat_minor": 2
}
