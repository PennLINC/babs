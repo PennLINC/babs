{
 "cells": [
  {
   "cell_type": "markdown",
   "metadata": {},
   "source": [
    "This jupyter notebook is to show function `babs-init`."
   ]
  },
  {
   "cell_type": "code",
   "execution_count": 1,
   "metadata": {},
   "outputs": [],
   "source": [
    "# See `README_howtorun_show_babs_init_ipynb.md` for how to run this file!\n",
    "\n",
    "# Clone out:\n",
    "#   datalad clone ria+file:///path/to/<container>/output_ria#~data singleORmulti-ses_<container>_outputs\n",
    "# If you want to change `project_root`'s foldername, also change `output_ria/alias/data` symlink:\n",
    "    # cd output_ria/alias\n",
    "    # ln -sf /new/full/path/to/output_ria/xxx/xxx-xxx-xxx-xxx data\n",
    "\n",
    "# flake8: noqa\n",
    "\n",
    "# set up how Jupyter notebook behaves:\n",
    "from IPython.core.interactiveshell import InteractiveShell\n",
    "InteractiveShell.ast_node_interactivity = 'all'   # print all outputs\n",
    "\n",
    "import os\n",
    "import os.path as op\n",
    "\n"
   ]
  },
  {
   "cell_type": "markdown",
   "metadata": {},
   "source": [
    "There are several arguments when calling `babs-init`:"
   ]
  },
  {
   "cell_type": "code",
   "execution_count": 4,
   "metadata": {},
   "outputs": [],
   "source": [
    "# This notebook only accepts qsiprep or fmriprep (input ds: BIDS)\n",
    "# ++++++++++++++++++++++++++++++++++\n",
    "flag_instance = \"qsiprep\"\n",
    "type_session = \"multi-ses\"\n",
    "is_real_data = True\n",
    "\n",
    "flag_where = \"cubic\"     # \"cubic\" or \"local\"\n",
    "# ++++++++++++++++++++++++++++++++++\n",
    "\n",
    "# where:\n",
    "if flag_where == \"cubic\":\n",
    "    where_root = \"/cbica/projects/BABS\"\n",
    "    where_project = op.join(where_root, \"data\")\n",
    "    where_notebooks = op.join(where_root, \"babs/notebooks\")\n",
    "elif flag_where == \"local\":\n",
    "    where_root = \"/Users/chenyzh/Desktop/Research/Satterthwaite_Lab/datalad_wrapper\"\n",
    "    where_project = op.join(where_root, \"data\")\n",
    "    where_notebooks = op.join(where_root, \"babs/notebooks\")\n",
    "else:\n",
    "    raise Exception(\"not valid `flag_where`!\")\n",
    "\n",
    "# Input dataset:\n",
    "if is_real_data is False:\n",
    "    if type_session == \"multi-ses\":\n",
    "        input_ds = op.join(where_project, \"w2nu3\")\n",
    "    elif type_session == \"single-ses\":\n",
    "        input_ds = op.join(where_project, \"t8urc\")\n",
    "else:           # real data:\n",
    "    if type_session == \"multi-ses\":\n",
    "        # input_ds = \"/cbica/projects/RBC/chenying_practice/data_for_babs/NKI/data_hashedID_bids\"\n",
    "        input_ds = \"/cbica/projects/BABS/data/testdata_NKI/data_hashedID_bids\"\n",
    "    elif type_session == \"single-ses\":\n",
    "        raise Exception(\"not supported yet!\")\n",
    "\n",
    "# Based on which BIDS App:\n",
    "if flag_instance == \"toybidsapp\":\n",
    "    input_cli = [[\"BIDS\", input_ds]]\n",
    "    project_name = \"test_babs_\" + type_session + \"_\" + flag_instance\n",
    "    bidsapp = \"toybidsapp\"\n",
    "    container_name = bidsapp + \"-0-0-5\"\n",
    "\n",
    "elif flag_instance == \"fmriprep\":\n",
    "    project_name = \"test_babs_\" + type_session + \"_fmriprep\"\n",
    "    bidsapp = \"fmriprep\"\n",
    "    container_name = bidsapp + \"-20-2-3\"\n",
    "\n",
    "elif flag_instance == \"qsiprep\":\n",
    "    project_name = \"test_babs_\" + type_session + \"_qsiprep\"\n",
    "    bidsapp = \"qsiprep\"\n",
    "    \n",
    "    container_name = bidsapp + \"-0-16-0RC3\"\n",
    "\n",
    "else:\n",
    "    raise Exception(\"`flag_instance` is not QSIPrep or fMRIPrep!\")\n",
    "\n",
    "# Container:\n",
    "container_ds = op.join(where_project, bidsapp + \"-container\")  \n",
    "if flag_where == \"local\":\n",
    "    container_ds += \"-docker\"   # add \"docker\" at the end\n",
    "container_config_yaml_file = op.join(where_notebooks, \"example_container_\" + flag_instance + \".yaml\")\n",
    "\n",
    "# list_sub_file = op.join(where_notebooks, \"initial_sub_list_\" + type_session + \".csv\")\n",
    "list_sub_file = None"
   ]
  },
  {
   "cell_type": "markdown",
   "metadata": {},
   "source": [
    "Let's pass these arguments into `babs-init` CLI:"
   ]
  },
  {
   "cell_type": "code",
   "execution_count": 5,
   "metadata": {},
   "outputs": [
    {
     "name": "stdout",
     "output_type": "stream",
     "text": [
      "The command to execute:\n",
      "babs-init \\\n",
      "\t--where_project /cbica/projects/BABS/data \\\n",
      "\t--project_name test_babs_multi-ses_qsiprep \\\n",
      "\t--input BIDS /cbica/projects/BABS/data/testdata_NKI/data_hashedID_bids \\\n",
      "\t--container_ds /cbica/projects/BABS/data/qsiprep-container \\\n",
      "\t--container_name qsiprep-0-16-0RC3 \\\n",
      "\t--container_config_yaml_file /cbica/projects/BABS/babs/notebooks/example_container_qsiprep.yaml \\\n",
      "\t--type_session multi-ses \\\n",
      "\t--type_system sge\n"
     ]
    }
   ],
   "source": [
    "cmd = \"babs-init \\\\\\n\"\n",
    "cmd += \"\\t\" + \"--where_project \" + where_project + \" \\\\\\n\"\n",
    "cmd += \"\\t\" + \"--project_name \" + project_name + \" \\\\\\n\"\n",
    "cmd += \"\\t\" + \"--input \" + \"BIDS\" + \" \" + input_ds + \" \\\\\\n\"\n",
    "if list_sub_file is not None:\n",
    "    cmd += \"\\t\" + \"--list_sub_file \" + list_sub_file + \" \\\\\\n\"\n",
    "cmd += \"\\t\" + \"--container_ds \" + container_ds + \" \\\\\\n\"\n",
    "cmd += \"\\t\" + \"--container_name \" + container_name + \" \\\\\\n\"\n",
    "cmd += \"\\t\" + \"--container_config_yaml_file \" + container_config_yaml_file + \" \\\\\\n\"\n",
    "cmd += \"\\t\" + \"--type_session \" + type_session + \" \\\\\\n\"\n",
    "cmd += \"\\t\" + \"--type_system \" + \"sge\"\n",
    "\n",
    "print(\"The command to execute:\")\n",
    "print(cmd)\n"
   ]
  },
  {
   "cell_type": "code",
   "execution_count": null,
   "metadata": {},
   "outputs": [],
   "source": [
    "!($cmd)"
   ]
  }
 ],
 "metadata": {
  "kernelspec": {
   "display_name": "mydatalad",
   "language": "python",
   "name": "python3"
  },
  "language_info": {
   "codemirror_mode": {
    "name": "ipython",
    "version": 3
   },
   "file_extension": ".py",
   "mimetype": "text/x-python",
   "name": "python",
   "nbconvert_exporter": "python",
   "pygments_lexer": "ipython3",
   "version": "3.9.13 | packaged by conda-forge | (main, May 27 2022, 16:58:50) \n[GCC 10.3.0]"
  },
  "orig_nbformat": 4,
  "vscode": {
   "interpreter": {
    "hash": "abcc7813313a81f6f916a4574498d1c2de65ad7fdfeb04d04cdf237cdcbdda8b"
   }
  }
 },
 "nbformat": 4,
 "nbformat_minor": 2
}
