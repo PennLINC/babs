{
 "cells": [
  {
   "cell_type": "markdown",
   "metadata": {},
   "source": [
    "This jupyter notebook is to show function `babs-init`."
   ]
  },
  {
   "cell_type": "code",
   "execution_count": 1,
   "metadata": {},
   "outputs": [],
   "source": [
    "# generate html file from this ipynb: \n",
    "# 1. set up the terminal:\n",
    "#   $ source ~/.bashrc   # freesurfer and templateflow env variables\n",
    "#   $ conda activate mydatalad\n",
    "# 2. manually install BABS:\n",
    "#   $ pip install -e .\n",
    "# 3. then run:\n",
    "#   $ jupyter nbconvert --execute --to html notebooks/show_babs_init_InputBIDS.ipynb\n",
    "\n",
    "# Interactively test out the bootstrapped scripts:\n",
    "#   - open `participant_job.sh` and `submit_jobs.sh`\n",
    "#   - enter the arguments value into terminal based on `submit_job.sh`\n",
    "#   - $ where_to_run=\"/cbica/comp_space/$(basename $HOME)\"   # using comp_space\n",
    "# After the job is gone from the list, check:\n",
    "#   - output_ria/xxx/xxx-xxx-xxx-xxx: $ git branch -a  # to see if the job is success\n",
    "#   - `analysis/logs` for logs\n",
    "#   - cd \"/cbica/comp_space/$(basename $HOME)\"   # comp_space to find out that job\n",
    "#   - qaccj -j <jobID> for diagnosis\n",
    "# Clone out:\n",
    "#   datalad clone ria+file:///path/to/<container>/output_ria#~data singleORmulti-ses_<container>_outputs\n",
    "\n",
    "\n",
    "# flake8: noqa\n",
    "\n",
    "# set up how Jupyter notebook behaves:\n",
    "from IPython.core.interactiveshell import InteractiveShell\n",
    "InteractiveShell.ast_node_interactivity = 'all'   # print all outputs\n",
    " \n",
    "# import sys\n",
    "import os\n",
    "import os.path as op\n",
    "# sys.path.append( os.path.join(os.path.dirname(os.path.dirname(os.path.abspath(os.path.abspath('')))), \"babs\"  ))\n",
    "\n",
    "# from babs.core_functions import babs_init\n",
    "# from babs.cli import *\n"
   ]
  },
  {
   "cell_type": "markdown",
   "metadata": {},
   "source": [
    "There are several arguments when calling `babs-init`:"
   ]
  },
  {
   "cell_type": "code",
   "execution_count": 2,
   "metadata": {},
   "outputs": [],
   "source": [
    "# This notebook only accepts qsiprep or fmriprep (input ds: BIDS)\n",
    "# ++++++++++++++++++++++++++++++++++\n",
    "flag_instance = \"toybidsapp\"\n",
    "type_session = \"single-ses\"\n",
    "flag_where = \"cubic\"     # \"cubic\" or \"local\"\n",
    "# ++++++++++++++++++++++++++++++++++\n",
    "where_notebooks = \"/Users/chenyzh/Desktop/Research/Satterthwaite_Lab/datalad_wrapper/babs/notebooks\"\n",
    "\n",
    "# where:\n",
    "if flag_where == \"cubic\":\n",
    "    where_root = \"/cbica/projects/BABS\"\n",
    "    where_project = op.join(where_root, \"data\")\n",
    "    where_notebooks = op.join(where_root, \"babs/notebooks\")\n",
    "elif flag_where == \"local\":\n",
    "    where_root = \"/Users/chenyzh/Desktop/Research/Satterthwaite_Lab/datalad_wrapper\"\n",
    "    where_project = op.join(where_root, \"data\")\n",
    "    where_notebooks = op.join(where_root, \"babs/notebooks\")\n",
    "else:\n",
    "    raise Exception(\"not valid `flag_where`!\")\n",
    "\n",
    "if flag_instance == \"toybidsapp\":\n",
    "    if type_session == \"multi-ses\":\n",
    "        input_ds = op.join(where_project, \"j854e\")\n",
    "    elif type_session == \"single-ses\":\n",
    "        input_ds = op.join(where_project, \"zd9a6\")\n",
    "\n",
    "    input_cli = [[\"BIDS\", input_ds]]\n",
    "    project_name = \"test_babs_\" + type_session + \"_\" + flag_instance\n",
    "    bidsapp = \"toybidsapp\"\n",
    "    container_name = bidsapp + \"-0-0-5\"\n",
    "\n",
    "elif flag_instance == \"fmriprep\":\n",
    "    if type_session == \"multi-ses\":\n",
    "        input_ds = op.join(where_project, \"j854e\")\n",
    "    elif type_session == \"single-ses\":\n",
    "        input_ds = op.join(where_project, \"zd9a6\")\n",
    "\n",
    "    project_name = \"test_babs_\" + type_session + \"_fmriprep\"\n",
    "    bidsapp = \"fmriprep\"\n",
    "    container_name = bidsapp + \"-0-0-0\"  # TODO: to change\n",
    "\n",
    "elif flag_instance == \"qsiprep\":\n",
    "    project_name = \"test_babs_\" + type_session + \"_qsiprep\"\n",
    "    bidsapp = \"qsiprep\"\n",
    "    if type_session == \"multi-ses\":\n",
    "        input_ds = op.join(where_project, \"j854e\")\n",
    "    elif type_session == \"single-ses\":\n",
    "        input_ds = op.join(where_project, \"zd9a6\")\n",
    "    \n",
    "    container_name = bidsapp + \"-0-0-0\"  # TODO: to change\n",
    "\n",
    "else:\n",
    "    raise Exception(\"`flag_instance` is not QSIPrep or fMRIPrep!\")\n",
    "\n",
    "container_ds = op.join(where_project, \"toybidsapp-container\")  \n",
    "# TODO: to change this ^^ before running fmriprep/qsiprep on cubic!\n",
    "if flag_where == \"local\":\n",
    "    container_ds += \"-docker\"   # add \"docker\" at the end\n",
    "container_config_yaml_file = op.join(where_notebooks, \"example_container_\" + flag_instance + \".yaml\")\n",
    "\n",
    "# list_sub_file = op.join(where_notebooks, \"initial_sub_list_\" + type_session + \".csv\")\n",
    "list_sub_file = None"
   ]
  },
  {
   "cell_type": "markdown",
   "metadata": {},
   "source": [
    "Let's pass these arguments into `babs-init` CLI:"
   ]
  },
  {
   "cell_type": "code",
   "execution_count": 3,
   "metadata": {},
   "outputs": [
    {
     "name": "stdout",
     "output_type": "stream",
     "text": [
      "The command to execute:\n",
      "babs-init \\\n",
      "\t--where_project /cbica/projects/BABS/data \\\n",
      "\t--project_name test_babs_single-ses_toybidsapp \\\n",
      "\t--input BIDS /cbica/projects/BABS/data/zd9a6 \\\n",
      "\t--container_ds /cbica/projects/BABS/data/toybidsapp-container \\\n",
      "\t--container_name toybidsapp-0-0-5 \\\n",
      "\t--container_config_yaml_file /cbica/projects/BABS/babs/notebooks/example_container_toybidsapp.yaml \\\n",
      "\t--type_session single-ses \\\n",
      "\t--type_system sge\n"
     ]
    }
   ],
   "source": [
    "cmd = \"babs-init \\\\\\n\"\n",
    "cmd += \"\\t\" + \"--where_project \" + where_project + \" \\\\\\n\"\n",
    "cmd += \"\\t\" + \"--project_name \" + project_name + \" \\\\\\n\"\n",
    "cmd += \"\\t\" + \"--input \" + \"BIDS\" + \" \" + input_ds + \" \\\\\\n\"\n",
    "if list_sub_file is not None:\n",
    "    cmd += \"\\t\" + \"--list_sub_file \" + list_sub_file + \" \\\\\\n\"\n",
    "cmd += \"\\t\" + \"--container_ds \" + container_ds + \" \\\\\\n\"\n",
    "cmd += \"\\t\" + \"--container_name \" + container_name + \" \\\\\\n\"\n",
    "cmd += \"\\t\" + \"--container_config_yaml_file \" + container_config_yaml_file + \" \\\\\\n\"\n",
    "cmd += \"\\t\" + \"--type_session \" + type_session + \" \\\\\\n\"\n",
    "cmd += \"\\t\" + \"--type_system \" + \"sge\"\n",
    "\n",
    "print(\"The command to execute:\")\n",
    "print(cmd)"
   ]
  },
  {
   "cell_type": "code",
   "execution_count": 6,
   "metadata": {},
   "outputs": [
    {
     "name": "stdout",
     "output_type": "stream",
     "text": [
      "DataLad version: 0.17.2\n",
      "nothing to save, working tree clean\n",
      "\n",
      "project_root of this BABS project: /Users/chenyzh/Desktop/Research/Satterthwaite_Lab/datalad_wrapper/data/test_babs_multi-ses_qsiprep\n",
      "type of data of this BABS project: multi-ses\n",
      "job scheduling system of this BABS project: sge\n",
      "\n",
      "\n",
      "Creating `analysis` folder (also a datalad dataset)...\n",
      "\u001b[1;31muntracked\u001b[0m: .gitignore (\u001b[1;35mfile\u001b[0m)\n",
      "  \u001b[1;31mdeleted\u001b[0m: code/sub_missing_any_ses_required_file.csv (\u001b[1;35mfile\u001b[0m)\n",
      "Folder 'analysis' exists in the `project_root` and is a datalad dataset; not to re-create it.\n",
      "\n",
      "Creating output and input RIA...\n",
      "\n",
      "Registering the input dataset(s)...\n",
      "The input dataset #1 'BIDS' has been copied into `analysis` folder; not to copy again.\n",
      "\n",
      "Checking whether each input dataset is a zipped or unzipped dataset...\n",
      "input dataset 'BIDS' is considered as an unzipped dataset.\n",
      "Performing sanity check for any unzipped input dataset...\n",
      "\n",
      "Adding the container as a sub-dataset of `analysis` dataset...\n",
      "The container has been added as a sub-dataset; not to do it again.\n",
      "\n",
      "Generating a bash script for running container and zipping the outputs...\n",
      "This bash script will be named as `qsiprep-0-0-0_zip.sh`\n",
      "\n",
      "/Users/chenyzh/Desktop/Research/Satterthwaite_Lab/datalad_wrapper/babs/babs/utils.py:316: UserWarning: Usually BIDS App depends on TemplateFlow, but environment variable `TEMPLATEFLOW_HOME` was not set up. Therefore, BABS will not export it or bind its directory when running the container. This may cause errors.\n",
      "  warnings.warn(\"Usually BIDS App depends on TemplateFlow,\"\n",
      "Below is the generated `singularity run` command:\n",
      "singularity run --cleanenv -B ${PWD} \\\n",
      "\tcontainers/.datalad/environments/qsiprep-0-0-0/image \\\n",
      "\tinputs/data/BIDS \\\n",
      "\toutputs \\\n",
      "\tparticipant \\\n",
      "\t-v -v \\\n",
      "\t-w ${PWD}/.git/tmp/wkdir \\\n",
      "\t--n_cpus $NSLOTS \\\n",
      "\t--stop-on-first-crash \\\n",
      "\t--fs-license-file code/license.txt \\\n",
      "\t--skip-bids-validation \\\n",
      "\t--unringing-method mrdegibbs \\\n",
      "\t--output-resolution 2.0 \\\n",
      "\t--bids-filter-file \"${filterfile}\" \\\n",
      "\t--participant-label \"${subid}\"\n",
      "Traceback (most recent call last):\n",
      "  File \"/Users/chenyzh/opt/miniconda3/envs/mydatalad/bin/babs-init\", line 33, in <module>\n",
      "    sys.exit(load_entry_point('BABS', 'console_scripts', 'babs-init')())\n",
      "  File \"/Users/chenyzh/Desktop/Research/Satterthwaite_Lab/datalad_wrapper/babs/babs/cli.py\", line 80, in babs_init_cli\n",
      "    babs_init(args.where_project, args.project_name,\n",
      "  File \"/Users/chenyzh/Desktop/Research/Satterthwaite_Lab/datalad_wrapper/babs/babs/core_functions.py\", line 84, in babs_init\n",
      "    babs_proj.babs_bootstrap(input_ds, container_ds, container_name, container_config_yaml_file,\n",
      "  File \"/Users/chenyzh/Desktop/Research/Satterthwaite_Lab/datalad_wrapper/babs/babs/babs.py\", line 335, in babs_bootstrap\n",
      "    container.generate_bash_run_bidsapp(bash_path, input_ds, self.type_session)\n",
      "  File \"/Users/chenyzh/Desktop/Research/Satterthwaite_Lab/datalad_wrapper/babs/babs/babs.py\", line 879, in generate_bash_run_bidsapp\n",
      "    raise Exception(\n",
      "Exception: FreeSurfer's license will be used but `$FREESURFER_HOME` was not set. Therefore, BABS cannot copy and paste FreeSurfer's license...\n"
     ]
    }
   ],
   "source": [
    "!($cmd)"
   ]
  }
 ],
 "metadata": {
  "kernelspec": {
   "display_name": "mydatalad",
   "language": "python",
   "name": "python3"
  },
  "language_info": {
   "codemirror_mode": {
    "name": "ipython",
    "version": 3
   },
   "file_extension": ".py",
   "mimetype": "text/x-python",
   "name": "python",
   "nbconvert_exporter": "python",
   "pygments_lexer": "ipython3",
   "version": "3.9.13"
  },
  "orig_nbformat": 4,
  "vscode": {
   "interpreter": {
    "hash": "abcc7813313a81f6f916a4574498d1c2de65ad7fdfeb04d04cdf237cdcbdda8b"
   }
  }
 },
 "nbformat": 4,
 "nbformat_minor": 2
}
