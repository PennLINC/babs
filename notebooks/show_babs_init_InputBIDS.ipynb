{
 "cells": [
  {
   "cell_type": "markdown",
   "metadata": {},
   "source": [
    "This jupyter notebook is to show function `babs-init`."
   ]
  },
  {
   "cell_type": "code",
   "execution_count": 6,
   "metadata": {},
   "outputs": [],
   "source": [
    "# See `README_howtorun_show_babs_init_ipynb.md` for how to run this file!\n",
    "\n",
    "# Clone out:\n",
    "#   datalad clone ria+file:///path/to/<container>/output_ria#~data singleORmulti-ses_<container>_outputs\n",
    "# If you want to change `project_root`'s foldername, also change `output_ria/alias/data` symlink:\n",
    "    # cd output_ria/alias\n",
    "    # ln -sf /new/full/path/to/output_ria/xxx/xxx-xxx-xxx-xxx data\n",
    "\n",
    "# flake8: noqa\n",
    "\n",
    "# set up how Jupyter notebook behaves:\n",
    "from IPython.core.interactiveshell import InteractiveShell\n",
    "InteractiveShell.ast_node_interactivity = 'all'   # print all outputs\n",
    "\n",
    "import os\n",
    "import os.path as op"
   ]
  },
  {
   "cell_type": "markdown",
   "metadata": {},
   "source": [
    "There are several arguments when calling `babs-init`:"
   ]
  },
  {
   "cell_type": "code",
   "execution_count": 11,
   "metadata": {},
   "outputs": [],
   "source": [
    "# This notebook only accepts toybidsapp, qsiprep or fmriprep or fmriprep_anatonly (input ds: BIDS)\n",
    "# ++++++++++++++++++++++++++++++++++\n",
    "flag_instance = \"toybidsapp\"\n",
    "type_session = \"multi-ses\"\n",
    "which_dataset = \"toy_fake\"    # \"toy_fake\", \"toy_real\", \"HBN\"\n",
    "\n",
    "flag_where = \"local\"     # \"cubic\" or \"local\"\n",
    "# ++++++++++++++++++++++++++++++++++\n",
    "\n",
    "# where:\n",
    "if flag_where == \"cubic\":\n",
    "    where_root = \"/cbica/projects/BABS\"\n",
    "    where_project = op.join(where_root, \"data\")\n",
    "    where_notebooks = op.join(where_root, \"babs/notebooks\")\n",
    "elif flag_where == \"local\":\n",
    "    where_root = \"/Users/cztemp/Desktop/Satterthwaite_Lab/datalad_wrapper\"  # change this back after laptop's back\n",
    "    where_project = op.join(where_root, \"data\")\n",
    "    where_notebooks = op.join(where_root, \"babs/notebooks\")\n",
    "else:\n",
    "    raise Exception(\"not valid `flag_where`!\")\n",
    "\n",
    "# Input dataset:\n",
    "if which_dataset == \"toy_fake\":\n",
    "    if type_session == \"multi-ses\":\n",
    "        input_ds = op.join(where_project, \"w2nu3\")\n",
    "    elif type_session == \"single-ses\":\n",
    "        input_ds = op.join(where_project, \"t8urc\")\n",
    "elif which_dataset == \"toy_real\":  # real data:\n",
    "    if type_session == \"multi-ses\":\n",
    "        # input_ds = \"/cbica/projects/RBC/chenying_practice/data_for_babs/NKI/data_hashedID_bids\"\n",
    "        input_ds = \"/cbica/projects/BABS/data/testdata_NKI/data_hashedID_bids\"\n",
    "    elif type_session == \"single-ses\":\n",
    "        raise Exception(\"not supported yet!\")\n",
    "elif which_dataset == \"HBN\":  # HBN data:\n",
    "    if type_session == \"single-ses\":\n",
    "        input_ds = \"/cbica/projects/BABS/data/rawdata_HBN\"   # datalad sibling in BABS cubic project\n",
    "    elif type_session == \"multi-ses\":\n",
    "        raise Exception(\"HBN is a single-ses data!\")\n",
    "\n",
    "\n",
    "project_name = \"test_babs_\" + type_session\n",
    "# Based on which dataset:\n",
    "if which_dataset == \"HBN\":   # HBN data:\n",
    "    project_name += \"_HBN\"\n",
    "# Based on which BIDS App:\n",
    "if flag_instance == \"toybidsapp\":\n",
    "    input_cli = [[\"BIDS\", input_ds]]\n",
    "    bidsapp = \"toybidsapp\"\n",
    "    container_name = bidsapp + \"-0-0-5\"\n",
    "elif flag_instance in [\"fmriprep\", \"fmriprep_anatonly\"]:\n",
    "    bidsapp = \"fmriprep\"\n",
    "    container_name = bidsapp + \"-20-2-3\"\n",
    "elif flag_instance == \"qsiprep\":\n",
    "    bidsapp = \"qsiprep\"\n",
    "    container_name = bidsapp + \"-0-16-0RC3\"\n",
    "else:\n",
    "    raise Exception(\"`flag_instance` is not QSIPrep or fMRIPrep!\")\n",
    "\n",
    "project_name += \"_\" + flag_instance\n",
    "\n",
    "\n",
    "# Container:\n",
    "if flag_where == \"cubic\":\n",
    "    container_ds = op.join(where_project, bidsapp + \"-container\")  \n",
    "elif flag_where == \"local\":\n",
    "    container_ds = op.join(where_project, \"toybidsapp-container-docker\")  # just use toybidsapp to test out\n",
    "container_config_yaml_file = op.join(where_notebooks, \"example_container_\" + flag_instance + \".yaml\")\n",
    "\n",
    "# list_sub_file = op.join(where_notebooks, \"initial_sub_list_\" + type_session + \".csv\")\n",
    "list_sub_file = None"
   ]
  },
  {
   "cell_type": "markdown",
   "metadata": {},
   "source": [
    "Let's pass these arguments into `babs-init` CLI:"
   ]
  },
  {
   "cell_type": "code",
   "execution_count": 12,
   "metadata": {},
   "outputs": [
    {
     "name": "stdout",
     "output_type": "stream",
     "text": [
      "The command to execute:\n",
      "babs-init \\\n",
      "\t--where_project /Users/cztemp/Desktop/Satterthwaite_Lab/datalad_wrapper/data \\\n",
      "\t--project_name test_babs_multi-ses_fmriprep \\\n",
      "\t--input BIDS /Users/cztemp/Desktop/Satterthwaite_Lab/datalad_wrapper/data/w2nu3 \\\n",
      "\t--container_ds /Users/cztemp/Desktop/Satterthwaite_Lab/datalad_wrapper/data/toybidsapp-container-docker \\\n",
      "\t--container_name fmriprep-20-2-3 \\\n",
      "\t--container_config_yaml_file /Users/cztemp/Desktop/Satterthwaite_Lab/datalad_wrapper/babs/notebooks/example_container_fmriprep.yaml \\\n",
      "\t--type_session multi-ses \\\n",
      "\t--type_system sge\n"
     ]
    }
   ],
   "source": [
    "cmd = \"babs-init \\\\\\n\"\n",
    "cmd += \"\\t\" + \"--where_project \" + where_project + \" \\\\\\n\"\n",
    "cmd += \"\\t\" + \"--project_name \" + project_name + \" \\\\\\n\"\n",
    "cmd += \"\\t\" + \"--input \" + \"BIDS\" + \" \" + input_ds + \" \\\\\\n\"\n",
    "if list_sub_file is not None:\n",
    "    cmd += \"\\t\" + \"--list_sub_file \" + list_sub_file + \" \\\\\\n\"\n",
    "cmd += \"\\t\" + \"--container_ds \" + container_ds + \" \\\\\\n\"\n",
    "cmd += \"\\t\" + \"--container_name \" + container_name + \" \\\\\\n\"\n",
    "cmd += \"\\t\" + \"--container_config_yaml_file \" + container_config_yaml_file + \" \\\\\\n\"\n",
    "cmd += \"\\t\" + \"--type_session \" + type_session + \" \\\\\\n\"\n",
    "cmd += \"\\t\" + \"--type_system \" + \"sge\"\n",
    "\n",
    "print(\"The command to execute:\")\n",
    "print(cmd)\n"
   ]
  },
  {
   "cell_type": "code",
   "execution_count": null,
   "metadata": {},
   "outputs": [],
   "source": [
    "!($cmd)"
   ]
  }
 ],
 "metadata": {
  "kernelspec": {
   "display_name": "mydatalad",
   "language": "python",
   "name": "python3"
  },
  "language_info": {
   "codemirror_mode": {
    "name": "ipython",
    "version": 3
   },
   "file_extension": ".py",
   "mimetype": "text/x-python",
   "name": "python",
   "nbconvert_exporter": "python",
   "pygments_lexer": "ipython3",
   "version": "3.9.16"
  },
  "orig_nbformat": 4,
  "vscode": {
   "interpreter": {
    "hash": "328a7917d6bd3422b1a66a799af21e89562158f1d3d91ddb7765dfb0587d06ff"
   }
  }
 },
 "nbformat": 4,
 "nbformat_minor": 2
}
