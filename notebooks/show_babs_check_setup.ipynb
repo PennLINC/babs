{
 "cells": [
  {
   "cell_type": "code",
   "execution_count": 1,
   "metadata": {},
   "outputs": [],
   "source": [
    "# See `README_howtorun_show_babs_init_ipynb.md` for how to run this file!\n",
    "\n",
    "# flake8: noqa\n",
    "\n",
    "# set up how Jupyter notebook behaves:\n",
    "from IPython.core.interactiveshell import InteractiveShell\n",
    "InteractiveShell.ast_node_interactivity = 'all'   # print all outputs\n",
    "\n",
    "import os\n",
    "import os.path as op"
   ]
  },
  {
   "cell_type": "markdown",
   "metadata": {},
   "source": [
    "There are several arguments when calling `babs-check-setup`:"
   ]
  },
  {
   "cell_type": "code",
   "execution_count": 2,
   "metadata": {},
   "outputs": [],
   "source": [
    "# This notebook in theory accepts all BIDS Apps (regardless of input dataset type)\n",
    "# ++++++++++++++++++++++++++++++++++\n",
    "flag_instance = \"toybidsapp\"  # toybidsapp, qsiprep or fmriprep or fmriprep_anatonly | not supported yet: xcpd\n",
    "type_session = \"multi-ses\"\n",
    "which_dataset = \"toy_fake\"    # \"toy_fake\", \"toy_real\", \"HBN\"\n",
    "flag_run_job_test = True   # True or False of turning on `--job-test`\n",
    "\n",
    "flag_where = \"cubic\"     # \"cubic\" or \"local\"\n",
    "# ++++++++++++++++++++++++++++++++++\n",
    "\n",
    "# where:\n",
    "if flag_where == \"cubic\":\n",
    "    where_root = \"/cbica/projects/BABS\"\n",
    "    where_project = op.join(where_root, \"data\")\n",
    "    where_notebooks = op.join(where_root, \"babs/notebooks\")\n",
    "elif flag_where == \"local\":\n",
    "    where_root = \"/Users/chenyzh/Desktop/Research/Satterthwaite_Lab/datalad_wrapper\"\n",
    "    where_project = op.join(where_root, \"data\")\n",
    "    where_notebooks = op.join(where_root, \"babs/notebooks\")\n",
    "else:\n",
    "    raise Exception(\"not valid `flag_where`!\")\n",
    "\n",
    "project_name = \"test_babs_\" + type_session\n",
    "# Based on which dataset:\n",
    "if which_dataset == \"HBN\":   # HBN data:\n",
    "    project_name += \"_HBN\"\n",
    "# Based on which BIDS App:\n",
    "if flag_instance == \"toybidsapp\":\n",
    "    bidsapp = \"toybidsapp\"\n",
    "    container_name = bidsapp + \"-0-0-5\"\n",
    "elif flag_instance in [\"fmriprep\", \"fmriprep_anatonly\"]:\n",
    "    bidsapp = \"fmriprep\"\n",
    "    container_name = bidsapp + \"-20-2-3\"\n",
    "elif flag_instance == \"qsiprep\":\n",
    "    bidsapp = \"qsiprep\"\n",
    "    container_name = bidsapp + \"-0-16-0RC3\"\n",
    "else:\n",
    "    raise Exception(\"`flag_instance` is not QSIPrep or fMRIPrep!\")\n",
    "\n",
    "project_name += \"_\" + flag_instance\n",
    "\n",
    "project_root = op.join(where_project, project_name)\n"
   ]
  },
  {
   "cell_type": "markdown",
   "metadata": {},
   "source": [
    "Let's pass these arguments into `babs-check-setup` CLI:"
   ]
  },
  {
   "cell_type": "code",
   "execution_count": 3,
   "metadata": {},
   "outputs": [
    {
     "name": "stdout",
     "output_type": "stream",
     "text": [
      "The command to execute:\n",
      "babs-check-setup \\\n",
      "\t--project_root /cbica/projects/BABS/data/test_babs_multi-ses_toybidsapp \\\n",
      "\t--job-test\n"
     ]
    }
   ],
   "source": [
    "cmd = \"babs-check-setup \\\\\\n\"\n",
    "cmd += \"\\t\" + \"--project_root \" + project_root + \" \\\\\\n\"\n",
    "if flag_run_job_test:\n",
    "    cmd += \"\\t\" + \"--job-test\"\n",
    "\n",
    "print(\"The command to execute:\")\n",
    "print(cmd)"
   ]
  },
  {
   "cell_type": "code",
   "execution_count": null,
   "metadata": {},
   "outputs": [],
   "source": [
    "!($cmd)"
   ]
  }
 ],
 "metadata": {
  "kernelspec": {
   "display_name": "mydatalad",
   "language": "python",
   "name": "python3"
  },
  "language_info": {
   "codemirror_mode": {
    "name": "ipython",
    "version": 3
   },
   "file_extension": ".py",
   "mimetype": "text/x-python",
   "name": "python",
   "nbconvert_exporter": "python",
   "pygments_lexer": "ipython3",
   "version": "3.9.13 | packaged by conda-forge | (main, May 27 2022, 16:58:50) \n[GCC 10.3.0]"
  },
  "orig_nbformat": 4,
  "vscode": {
   "interpreter": {
    "hash": "abcc7813313a81f6f916a4574498d1c2de65ad7fdfeb04d04cdf237cdcbdda8b"
   }
  }
 },
 "nbformat": 4,
 "nbformat_minor": 2
}
